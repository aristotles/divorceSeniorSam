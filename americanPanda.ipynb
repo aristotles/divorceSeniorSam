{
 "cells": [
  {
   "cell_type": "markdown",
   "metadata": {},
   "source": [
    "# Mapping Terms Application\n",
    "\n",
    "This notebook explores the [Chronicling America API](https://chroniclingamerica.loc.gov/about/api/) for creating a map of the frequency certain terms appear in newspapers for a given time."
   ]
  },
  {
   "cell_type": "code",
   "execution_count": null,
   "metadata": {},
   "outputs": [],
   "source": []
  },
  {
   "cell_type": "code",
   "execution_count": 1,
   "metadata": {
    "scrolled": false
   },
   "outputs": [
    {
     "data": {
      "text/html": [
       "        <script type=\"text/javascript\">\n",
       "        window.PlotlyConfig = {MathJaxConfig: 'local'};\n",
       "        if (window.MathJax) {MathJax.Hub.Config({SVG: {font: \"STIX-Web\"}});}\n",
       "        if (typeof require !== 'undefined') {\n",
       "        require.undef(\"plotly\");\n",
       "        requirejs.config({\n",
       "            paths: {\n",
       "                'plotly': ['https://cdn.plot.ly/plotly-latest.min']\n",
       "            }\n",
       "        });\n",
       "        require(['plotly'], function(Plotly) {\n",
       "            window._Plotly = Plotly;\n",
       "        });\n",
       "        }\n",
       "        </script>\n",
       "        "
      ]
     },
     "metadata": {},
     "output_type": "display_data"
    },
    {
     "name": "stdout",
     "output_type": "stream",
     "text": [
      "['women+dog']\n",
      "women+dog\n",
      "Table exists.\n",
      "[('1857-05-11 00:00:00', 'nan'), ('1859-12-02 00:00:00', 'Saint Paul, Ramsey, Minnesota'), ('1859-11-26 00:00:00', 'Red Wing, Goodhue, Minnesota'), ('1854-01-13 00:00:00', 'Wilmington, New Hanover, North Carolina'), ('1859-11-19 00:00:00', 'nan'), ('1853-06-29 00:00:00', 'New York, New York, New York'), ('1857-05-11 00:00:00', 'nan'), ('1859-12-02 00:00:00', 'Saint Paul, Ramsey, Minnesota'), ('1859-11-26 00:00:00', 'Red Wing, Goodhue, Minnesota'), ('1854-01-13 00:00:00', 'Wilmington, New Hanover, North Carolina'), ('1859-11-19 00:00:00', 'nan'), ('1853-06-29 00:00:00', 'New York, New York, New York'), ('1857-05-11 00:00:00', 'nan'), ('1859-12-02 00:00:00', 'Saint Paul, Ramsey, Minnesota'), ('1859-11-26 00:00:00', 'Red Wing, Goodhue, Minnesota'), ('1854-01-13 00:00:00', 'Wilmington, New Hanover, North Carolina'), ('1859-11-19 00:00:00', 'nan'), ('1853-06-29 00:00:00', 'New York, New York, New York'), ('1857-05-11 00:00:00', 'nan'), ('1859-12-02 00:00:00', 'Saint Paul, Ramsey, Minnesota'), ('1859-11-26 00:00:00', 'Red Wing, Goodhue, Minnesota'), ('1854-01-13 00:00:00', 'Wilmington, New Hanover, North Carolina'), ('1859-11-19 00:00:00', 'nan'), ('1853-06-29 00:00:00', 'New York, New York, New York')]\n",
      "--- 0.0023500919342041016 seconds ---\n",
      "[]\n"
     ]
    }
   ],
   "source": [
    "import pandas as pd\n",
    "import requests\n",
    "from geopy import geocoders\n",
    "from geopy.extra.rate_limiter import RateLimiter\n",
    "import plotly.offline as pyo\n",
    "import plotly.graph_objs as go\n",
    "import time\n",
    "import sqlite3\n",
    "start_time = time.time()\n",
    "pyo.init_notebook_mode(connected=True)\n",
    "searchTerm = \"women+dog\"\n",
    "fileEmpty=False\n",
    "List = []\n",
    "List = searchTerm.split(\",\")\n",
    "print(List)\n",
    "conn = sqlite3.connect('example.db')\n",
    "c = conn.cursor()\n",
    "d = conn.cursor()\n",
    "for i in List:\n",
    "    print(i)\n",
    "    #get the count of tables with the name\n",
    "    c.execute(''' SELECT count(name) FROM sqlite_master WHERE type='table' AND name='womendog5' ''')\n",
    "    \n",
    "    #if the count is 1, then table exists\n",
    "    if c.fetchone()[0]==1 :\n",
    "        print('Table exists.')\n",
    "        d.execute(\"SELECT * FROM womendog5\")\n",
    "        print(d.fetchall())\n",
    "    else:\n",
    "        print(\"table doesnt exist.\")\n",
    "        beginYear = 1850\n",
    "        endYear = 1860\n",
    "        pg=1\n",
    "        endpg=4\n",
    "        #too much data? I'm just grabbing the first few pages right now\n",
    "        stop = False\n",
    "        allData = []\n",
    "        locs = {}\n",
    "        pd.set_option('display.max_colwidth', -1)\n",
    "        while not stop:\n",
    "    #http://chroniclingamerica.loc.gov/search/pages/results/?andtext={searchTerms}&page={startPage?}&ortext={chronam:booleanOrText?}&year={chronam:year?}&date1={chronam:date?}&date2={chronam:date?}&phrasetext={chronam:phraseText?}&proxText={chronam:proxText?}&proximityValue={chronam:proximityValue?}&format=json\"\n",
    "            url = \"http://chroniclingamerica.loc.gov/search/pages/results/?phrasetext={0}&dateFilterType=yearRange&date1={1}&date2={2}&page={3}&format=json\".format(searchTerm,beginYear,endYear,pg)\n",
    "            call = requests.get(url)\n",
    "            data = call.json()\n",
    "            df = pd.DataFrame(data[\"items\"])\n",
    "#             nf=pd.DataFrame()\n",
    "#             americanPanda=pd.DataFrame()\n",
    "            #only want city and date for this application\n",
    "#             nf['date']=pd.to_datetime(df['date'])\n",
    "#             nf['citystate']=df['city'].map(lambda a:a[0])+', '+df['state'].map(lambda a: a[0])\n",
    "            c.execute('CREATE TABLE IF NOT EXISTS {tab} (date text, city text)'.format(tab=\"womendog5\"))\n",
    "            newDate=pd.to_datetime(df['date'])\n",
    "            newLocation=df['city'].map(lambda a:a[0])+', '+df['county'].map(lambda a: a[0])+', '+df['state'].map(lambda a: a[0])\n",
    "            countMain=0\n",
    "            for one in newDate:\n",
    "                value1=str(newDate[countMain])\n",
    "                value2=str(newLocation[countMain])\n",
    "                c.execute(\"INSERT INTO womendog5 VALUES (?,?)\",(value1, value2))\n",
    "                countMain= countMain + 1\n",
    "#             loopCount=len(americanPanda.columns)\n",
    "#             secondPanda=pd.DataFrame()\n",
    "#             pdfList=[]\n",
    "#             textList=[]\n",
    "#             for count, url in enumerate(df['url'], start=1):\n",
    "#                 print(count)\n",
    "#                 call = requests.get(url)\n",
    "#                 data = call.json()\n",
    "#                 forframe = pd.DataFrame(data)\n",
    "#                 forframe.index= [0,1,2]\n",
    "#                 forpanda=pd.DataFrame()\n",
    "#                 pdfframe=forframe['pdf']\n",
    "#                 textframe=forframe['text']\n",
    "#                 pdfList.append((pdfframe[0]))\n",
    "#                 textList.append((textframe[0]))\n",
    "#             americanPanda['keywords']=i\n",
    "#             print(americanPanda)\n",
    "            print(\"=============\")\n",
    "            conn.commit()\n",
    "            c.execute(\"SELECT * FROM womendog5\")\n",
    "           \n",
    "#             americanPanda.to_pickle(i+'.pkl')\n",
    "            if pg==endpg:\n",
    "                stop = True\n",
    "            else:\n",
    "                pg +=1     \n",
    "    print(\"--- %s seconds ---\" % (time.time() - start_time))\n",
    "    print(c.fetchall())\n",
    "  \n"
   ]
  },
  {
   "cell_type": "code",
   "execution_count": null,
   "metadata": {},
   "outputs": [],
   "source": []
  },
  {
   "cell_type": "code",
   "execution_count": null,
   "metadata": {},
   "outputs": [],
   "source": []
  },
  {
   "cell_type": "code",
   "execution_count": null,
   "metadata": {},
   "outputs": [],
   "source": []
  },
  {
   "cell_type": "code",
   "execution_count": null,
   "metadata": {},
   "outputs": [],
   "source": []
  },
  {
   "cell_type": "code",
   "execution_count": null,
   "metadata": {},
   "outputs": [],
   "source": []
  },
  {
   "cell_type": "code",
   "execution_count": null,
   "metadata": {},
   "outputs": [],
   "source": []
  },
  {
   "cell_type": "code",
   "execution_count": null,
   "metadata": {},
   "outputs": [],
   "source": []
  },
  {
   "cell_type": "code",
   "execution_count": null,
   "metadata": {},
   "outputs": [],
   "source": []
  },
  {
   "cell_type": "code",
   "execution_count": null,
   "metadata": {},
   "outputs": [],
   "source": []
  },
  {
   "cell_type": "code",
   "execution_count": null,
   "metadata": {},
   "outputs": [],
   "source": []
  },
  {
   "cell_type": "code",
   "execution_count": null,
   "metadata": {},
   "outputs": [],
   "source": []
  },
  {
   "cell_type": "code",
   "execution_count": null,
   "metadata": {},
   "outputs": [],
   "source": []
  },
  {
   "cell_type": "code",
   "execution_count": null,
   "metadata": {},
   "outputs": [],
   "source": []
  }
 ],
 "metadata": {
  "kernelspec": {
   "display_name": "Python 3",
   "language": "python",
   "name": "python3"
  },
  "language_info": {
   "codemirror_mode": {
    "name": "ipython",
    "version": 3
   },
   "file_extension": ".py",
   "mimetype": "text/x-python",
   "name": "python",
   "nbconvert_exporter": "python",
   "pygments_lexer": "ipython3",
   "version": "3.7.3"
  }
 },
 "nbformat": 4,
 "nbformat_minor": 4
}
