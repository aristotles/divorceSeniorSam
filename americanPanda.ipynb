{
 "cells": [
  {
   "cell_type": "markdown",
   "metadata": {},
   "source": [
    "# Mapping Terms Application\n",
    "\n",
    "This notebook explores the [Chronicling America API](https://chroniclingamerica.loc.gov/about/api/) for creating a map of the frequency certain terms appear in newspapers for a given time."
   ]
  },
  {
   "cell_type": "code",
   "execution_count": null,
   "metadata": {},
   "outputs": [],
   "source": []
  },
  {
   "cell_type": "code",
   "execution_count": 14,
   "metadata": {
    "scrolled": true
   },
   "outputs": [
    {
     "data": {
      "text/html": [
       "        <script type=\"text/javascript\">\n",
       "        window.PlotlyConfig = {MathJaxConfig: 'local'};\n",
       "        if (window.MathJax) {MathJax.Hub.Config({SVG: {font: \"STIX-Web\"}});}\n",
       "        if (typeof require !== 'undefined') {\n",
       "        require.undef(\"plotly\");\n",
       "        requirejs.config({\n",
       "            paths: {\n",
       "                'plotly': ['https://cdn.plot.ly/plotly-latest.min']\n",
       "            }\n",
       "        });\n",
       "        require(['plotly'], function(Plotly) {\n",
       "            window._Plotly = Plotly;\n",
       "        });\n",
       "        }\n",
       "        </script>\n",
       "        "
      ]
     },
     "metadata": {},
     "output_type": "display_data"
    },
    {
     "name": "stdout",
     "output_type": "stream",
     "text": [
      "['tent+dog', 'tent+girl', 'tent+boy']\n",
      "tent+dog\n",
      "Pickle found.\n",
      "        date                   location  keywords\n",
      "0 1853-12-23  Rutland, Rutland, Vermont  tent+dog\n",
      "1 1858-02-23  NaN                        tent+dog\n",
      "--- 0.017303943634033203 seconds ---\n",
      "tent+girl\n",
      "Pickle found.\n",
      "         date                      location   keywords\n",
      "0  1858-12-15  NaN                           tent+girl\n",
      "1  1860-09-19  Cincinnati, Hamilton, Ohio    tent+girl\n",
      "2  1852-11-01  New York, New York, New York  tent+girl\n",
      "3  1854-10-19  New York, New York, New York  tent+girl\n",
      "4  1854-10-26  New York, New York, New York  tent+girl\n",
      "5  1854-03-14  New York, New York, New York  tent+girl\n",
      "6  1855-03-06  New York, New York, New York  tent+girl\n",
      "7  1854-04-26  New York, New York, New York  tent+girl\n",
      "8  1854-05-18  New York, New York, New York  tent+girl\n",
      "9  1858-01-12  New York, New York, New York  tent+girl\n",
      "10 1855-12-04  New York, New York, New York  tent+girl\n",
      "11 1850-05-15  New York, New York, New York  tent+girl\n",
      "12 1852-04-29  New York, New York, New York  tent+girl\n",
      "13 1858-02-16  New York, New York, New York  tent+girl\n",
      "14 1859-04-29  New York, New York, New York  tent+girl\n",
      "15 1853-08-04  New York, New York, New York  tent+girl\n",
      "16 1856-09-12  New York, New York, New York  tent+girl\n",
      "17 1850-02-27  New York, New York, New York  tent+girl\n",
      "18 1858-09-21  New York, New York, New York  tent+girl\n",
      "19 1859-11-26  New York, New York, New York  tent+girl\n",
      "--- 0.0301058292388916 seconds ---\n",
      "tent+boy\n",
      "Pickle found.\n",
      "         date                          location  keywords\n",
      "0  1859-10-05  Middlebury, Addison, Vermont      tent+boy\n",
      "1  1857-01-03  New York, New York, New York      tent+boy\n",
      "2  1859-12-05  New Orleans, Orleans, Louisiana   tent+boy\n",
      "3  1852-10-29  Sumter, Sumter, South Carolina    tent+boy\n",
      "4  1860-06-23  Plaquemine, Iberville, Louisiana  tent+boy\n",
      "5  1853-04-21  Nashville, Davidson, Tennessee    tent+boy\n",
      "6  1852-10-11  Wheeling, Ohio, West Virginia     tent+boy\n",
      "7  1856-04-04  NaN                               tent+boy\n",
      "8  1855-04-12  New York, New York, New York      tent+boy\n",
      "9  1859-11-10  Nashville, Davidson, Tennessee    tent+boy\n",
      "10 1859-11-11  Nashville, Davidson, Tennessee    tent+boy\n",
      "--- 0.0484318733215332 seconds ---\n"
     ]
    }
   ],
   "source": [
    "import pandas as pd\n",
    "import requests\n",
    "from geopy import geocoders\n",
    "from geopy.extra.rate_limiter import RateLimiter\n",
    "import plotly.offline as pyo\n",
    "import plotly.graph_objs as go\n",
    "import time\n",
    "\n",
    "start_time = time.time()\n",
    "pyo.init_notebook_mode(connected=True)\n",
    "searchTerm = \"tent+dog,tent+girl,tent+boy\"\n",
    "fileEmpty=False\n",
    "List = []\n",
    "List = searchTerm.split(\",\")\n",
    "print(List)\n",
    "for i in List:\n",
    "    print(i)\n",
    "    try:\n",
    "        df = pd.read_pickle(i+'.pkl')\n",
    "        print(\"Pickle found.\")\n",
    "        print(df)\n",
    "    except FileNotFoundError:\n",
    "        fileEmpty=True\n",
    "    if(fileEmpty is True): \n",
    "        print(\"Pickle empty.\")\n",
    "        beginYear = 1850\n",
    "        endYear = 1860\n",
    "        pg=1\n",
    "        endpg=4\n",
    "        #too much data? I'm just grabbing the first few pages right now\n",
    "        stop = False\n",
    "        allData = []\n",
    "        locs = {}\n",
    "        pd.set_option('display.max_colwidth', -1)\n",
    "        while not stop:\n",
    "    #http://chroniclingamerica.loc.gov/search/pages/results/?andtext={searchTerms}&page={startPage?}&ortext={chronam:booleanOrText?}&year={chronam:year?}&date1={chronam:date?}&date2={chronam:date?}&phrasetext={chronam:phraseText?}&proxText={chronam:proxText?}&proximityValue={chronam:proximityValue?}&format=json\"\n",
    "            url = \"http://chroniclingamerica.loc.gov/search/pages/results/?phrasetext={0}&dateFilterType=yearRange&date1={1}&date2={2}&page={3}&format=json\".format(searchTerm,beginYear,endYear,pg)\n",
    "            print(url)\n",
    "            call = requests.get(url)\n",
    "            data = call.json()\n",
    "            df = pd.DataFrame(data[\"items\"])\n",
    "            nf=pd.DataFrame()\n",
    "            americanPanda=pd.DataFrame()\n",
    "            #only want city and date for this application\n",
    "            nf['date']=pd.to_datetime(df['date'])\n",
    "            nf['citystate']=df['city'].map(lambda a:a[0])+', '+df['state'].map(lambda a: a[0])\n",
    "            americanPanda['date']=pd.to_datetime(df['date'])\n",
    "            americanPanda['location']=df['city'].map(lambda a:a[0])+', '+df['county'].map(lambda a: a[0])+', '+df['state'].map(lambda a: a[0])\n",
    "\n",
    "            loopCount=len(americanPanda.columns)\n",
    "            secondPanda=pd.DataFrame()\n",
    "            pdfList=[]\n",
    "            textList=[]\n",
    "            for count, url in enumerate(df['url'], start=1):\n",
    "                print(count)\n",
    "                call = requests.get(url)\n",
    "                data = call.json()\n",
    "                forframe = pd.DataFrame(data)\n",
    "                forframe.index= [0,1,2]\n",
    "                forpanda=pd.DataFrame()\n",
    "                pdfframe=forframe['pdf']\n",
    "                textframe=forframe['text']\n",
    "                pdfList.append((pdfframe[0]))\n",
    "                textList.append((textframe[0]))\n",
    "            americanPanda['keywords']=i\n",
    "            print(americanPanda)\n",
    "            print(\"=============\")\n",
    "            americanPanda.to_pickle(i+'.pkl')\n",
    "            if pg==endpg:\n",
    "                stop = True\n",
    "            else:\n",
    "                pg +=1     \n",
    "    print(\"--- %s seconds ---\" % (time.time() - start_time))\n",
    "  \n"
   ]
  },
  {
   "cell_type": "code",
   "execution_count": null,
   "metadata": {},
   "outputs": [],
   "source": []
  },
  {
   "cell_type": "code",
   "execution_count": null,
   "metadata": {},
   "outputs": [],
   "source": []
  },
  {
   "cell_type": "code",
   "execution_count": null,
   "metadata": {},
   "outputs": [],
   "source": []
  },
  {
   "cell_type": "code",
   "execution_count": null,
   "metadata": {},
   "outputs": [],
   "source": []
  },
  {
   "cell_type": "code",
   "execution_count": null,
   "metadata": {},
   "outputs": [],
   "source": []
  },
  {
   "cell_type": "code",
   "execution_count": null,
   "metadata": {},
   "outputs": [],
   "source": []
  },
  {
   "cell_type": "code",
   "execution_count": null,
   "metadata": {},
   "outputs": [],
   "source": []
  },
  {
   "cell_type": "code",
   "execution_count": null,
   "metadata": {},
   "outputs": [],
   "source": []
  },
  {
   "cell_type": "code",
   "execution_count": null,
   "metadata": {},
   "outputs": [],
   "source": []
  },
  {
   "cell_type": "code",
   "execution_count": null,
   "metadata": {},
   "outputs": [],
   "source": []
  },
  {
   "cell_type": "code",
   "execution_count": null,
   "metadata": {},
   "outputs": [],
   "source": []
  },
  {
   "cell_type": "code",
   "execution_count": null,
   "metadata": {},
   "outputs": [],
   "source": []
  },
  {
   "cell_type": "code",
   "execution_count": null,
   "metadata": {},
   "outputs": [],
   "source": []
  }
 ],
 "metadata": {
  "kernelspec": {
   "display_name": "Python 3",
   "language": "python",
   "name": "python3"
  },
  "language_info": {
   "codemirror_mode": {
    "name": "ipython",
    "version": 3
   },
   "file_extension": ".py",
   "mimetype": "text/x-python",
   "name": "python",
   "nbconvert_exporter": "python",
   "pygments_lexer": "ipython3",
   "version": "3.7.3"
  }
 },
 "nbformat": 4,
 "nbformat_minor": 4
}
