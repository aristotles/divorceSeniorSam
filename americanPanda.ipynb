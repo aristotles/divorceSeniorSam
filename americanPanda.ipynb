{
 "cells": [
  {
   "cell_type": "markdown",
   "metadata": {},
   "source": [
    "# Mapping Terms Application\n",
    "\n",
    "This notebook explores the [Chronicling America API](https://chroniclingamerica.loc.gov/about/api/) for creating a map of the frequency certain terms appear in newspapers for a given time."
   ]
  },
  {
   "cell_type": "code",
   "execution_count": null,
   "metadata": {},
   "outputs": [],
   "source": []
  },
  {
   "cell_type": "code",
   "execution_count": 87,
   "metadata": {
    "scrolled": false
   },
   "outputs": [
    {
     "data": {
      "text/html": [
       "        <script type=\"text/javascript\">\n",
       "        window.PlotlyConfig = {MathJaxConfig: 'local'};\n",
       "        if (window.MathJax) {MathJax.Hub.Config({SVG: {font: \"STIX-Web\"}});}\n",
       "        if (typeof require !== 'undefined') {\n",
       "        require.undef(\"plotly\");\n",
       "        requirejs.config({\n",
       "            paths: {\n",
       "                'plotly': ['https://cdn.plot.ly/plotly-latest.min']\n",
       "            }\n",
       "        });\n",
       "        require(['plotly'], function(Plotly) {\n",
       "            window._Plotly = Plotly;\n",
       "        });\n",
       "        }\n",
       "        </script>\n",
       "        "
      ]
     },
     "metadata": {},
     "output_type": "display_data"
    },
    {
     "name": "stdout",
     "output_type": "stream",
     "text": [
      "2\n",
      "1\n",
      "2\n",
      "        date                         location  \\\n",
      "0 1851-03-04  Orleans, New Orleans, Louisiana   \n",
      "1 1851-03-01  New York, New York, New York      \n",
      "\n",
      "                                                                            pdf  \\\n",
      "0  https://chroniclingamerica.loc.gov/lccn/sn82015378/1851-03-04/ed-1/seq-4.pdf   \n",
      "1  https://chroniclingamerica.loc.gov/lccn/sn83030313/1851-03-01/ed-1/seq-3.pdf   \n",
      "\n",
      "                                                                               text  \\\n",
      "0  https://chroniclingamerica.loc.gov/lccn/sn82015378/1851-03-04/ed-1/seq-4/ocr.txt   \n",
      "1  https://chroniclingamerica.loc.gov/lccn/sn83030313/1851-03-01/ed-1/seq-3/ocr.txt   \n",
      "\n",
      "    keywords  \n",
      "0  free+love  \n",
      "1  free+love  \n"
     ]
    }
   ],
   "source": [
    "import pandas as pd\n",
    "import requests\n",
    "from geopy import geocoders\n",
    "from geopy.extra.rate_limiter import RateLimiter\n",
    "import plotly.offline as pyo\n",
    "import plotly.graph_objs as go\n",
    "import time\n",
    "\n",
    "pyo.init_notebook_mode(connected=True)\n",
    "searchTerm = \"free+love\"\n",
    "beginYear = 1850\n",
    "endYear = 1852\n",
    "pg=1\n",
    "endpg=2 #too much data? I'm just grabbing the first few pages right now\n",
    "stop = False\n",
    "allData = []\n",
    "locs = {}\n",
    "pd.set_option('display.max_colwidth', -1)\n",
    "while not stop:\n",
    "#http://chroniclingamerica.loc.gov/search/pages/results/?andtext={searchTerms}&page={startPage?}&ortext={chronam:booleanOrText?}&year={chronam:year?}&date1={chronam:date?}&date2={chronam:date?}&phrasetext={chronam:phraseText?}&proxText={chronam:proxText?}&proximityValue={chronam:proximityValue?}&format=json\"\n",
    "    url = \"http://chroniclingamerica.loc.gov/search/pages/results/?phrasetext={0}&dateFilterType=yearRange&date1={1}&date2={2}&page={3}&format=json\".format(searchTerm,beginYear,endYear,pg)\n",
    "  \n",
    "    call = requests.get(url)\n",
    "    data = call.json()\n",
    "    df = pd.DataFrame(data[\"items\"])\n",
    "    nf=pd.DataFrame()\n",
    "    americanPanda=pd.DataFrame()\n",
    "    #only want city and date for this application\n",
    "    nf['date']=pd.to_datetime(df['date'])\n",
    "    nf['citystate']=df['city'].map(lambda a:a[0])+', '+df['state'].map(lambda a: a[0])\n",
    "    americanPanda['date']=pd.to_datetime(df['date'])\n",
    "    americanPanda['location']=df['county'].map(lambda a:a[0])+', '+df['city'].map(lambda a: a[0])+', '+df['state'].map(lambda a: a[0])\n",
    "    print(len(americanPanda.columns))\n",
    "    loopCount=len(americanPanda.columns)\n",
    "    secondPanda=pd.DataFrame()\n",
    "    pdfList=[]\n",
    "    textList=[]\n",
    "    for count, url in enumerate(df['url'], start=1):\n",
    "        print(count)\n",
    "        call = requests.get(url)\n",
    "        data = call.json()\n",
    "        forframe = pd.DataFrame(data)\n",
    "        forframe.index= [0,1,2]\n",
    "        forpanda=pd.DataFrame()\n",
    "        pdfframe=forframe['pdf']\n",
    "        textframe=forframe['text']\n",
    "        pdfList.append((pdfframe[0]))\n",
    "        textList.append((textframe[0]))\n",
    "    americanPanda['pdf']=pdfList\n",
    "    americanPanda['text']=textList\n",
    "    americanPanda['keywords']=searchTerm\n",
    "    print(americanPanda)\n",
    "    stop=True     \n",
    "\n",
    "  \n"
   ]
  },
  {
   "cell_type": "code",
   "execution_count": null,
   "metadata": {},
   "outputs": [],
   "source": []
  },
  {
   "cell_type": "code",
   "execution_count": null,
   "metadata": {},
   "outputs": [],
   "source": []
  },
  {
   "cell_type": "code",
   "execution_count": null,
   "metadata": {},
   "outputs": [],
   "source": []
  },
  {
   "cell_type": "code",
   "execution_count": null,
   "metadata": {},
   "outputs": [],
   "source": []
  },
  {
   "cell_type": "code",
   "execution_count": null,
   "metadata": {},
   "outputs": [],
   "source": []
  },
  {
   "cell_type": "code",
   "execution_count": null,
   "metadata": {},
   "outputs": [],
   "source": []
  },
  {
   "cell_type": "code",
   "execution_count": null,
   "metadata": {},
   "outputs": [],
   "source": []
  },
  {
   "cell_type": "code",
   "execution_count": null,
   "metadata": {},
   "outputs": [],
   "source": []
  },
  {
   "cell_type": "code",
   "execution_count": null,
   "metadata": {},
   "outputs": [],
   "source": []
  },
  {
   "cell_type": "code",
   "execution_count": null,
   "metadata": {},
   "outputs": [],
   "source": []
  },
  {
   "cell_type": "code",
   "execution_count": null,
   "metadata": {},
   "outputs": [],
   "source": []
  },
  {
   "cell_type": "code",
   "execution_count": null,
   "metadata": {},
   "outputs": [],
   "source": []
  },
  {
   "cell_type": "code",
   "execution_count": null,
   "metadata": {},
   "outputs": [],
   "source": []
  }
 ],
 "metadata": {
  "kernelspec": {
   "display_name": "Python 3",
   "language": "python",
   "name": "python3"
  },
  "language_info": {
   "codemirror_mode": {
    "name": "ipython",
    "version": 3
   },
   "file_extension": ".py",
   "mimetype": "text/x-python",
   "name": "python",
   "nbconvert_exporter": "python",
   "pygments_lexer": "ipython3",
   "version": "3.7.3"
  }
 },
 "nbformat": 4,
 "nbformat_minor": 4
}
