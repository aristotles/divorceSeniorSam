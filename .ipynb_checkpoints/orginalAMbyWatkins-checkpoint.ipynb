{
 "cells": [
  {
   "cell_type": "markdown",
   "metadata": {},
   "source": [
    "# Mapping Terms Application\n",
    "\n",
    "This notebook explores the [Chronicling America API](https://chroniclingamerica.loc.gov/about/api/) for creating a map of the frequency certain terms appear in newspapers for a given time."
   ]
  },
  {
   "cell_type": "code",
   "execution_count": 6,
   "metadata": {},
   "outputs": [
    {
     "data": {
      "text/html": [
       "        <script type=\"text/javascript\">\n",
       "        window.PlotlyConfig = {MathJaxConfig: 'local'};\n",
       "        if (window.MathJax) {MathJax.Hub.Config({SVG: {font: \"STIX-Web\"}});}\n",
       "        if (typeof require !== 'undefined') {\n",
       "        require.undef(\"plotly\");\n",
       "        requirejs.config({\n",
       "            paths: {\n",
       "                'plotly': ['https://cdn.plot.ly/plotly-latest.min']\n",
       "            }\n",
       "        });\n",
       "        require(['plotly'], function(Plotly) {\n",
       "            window._Plotly = Plotly;\n",
       "        });\n",
       "        }\n",
       "        </script>\n",
       "        "
      ]
     },
     "metadata": {},
     "output_type": "display_data"
    }
   ],
   "source": [
    "import pandas as pd\n",
    "import requests\n",
    "from geopy import geocoders\n",
    "from geopy.extra.rate_limiter import RateLimiter\n",
    "import plotly.offline as pyo\n",
    "import plotly.graph_objs as go\n",
    "import time\n",
    "\n",
    "pyo.init_notebook_mode(connected=True)"
   ]
  },
  {
   "cell_type": "code",
   "execution_count": 9,
   "metadata": {},
   "outputs": [
    {
     "name": "stdout",
     "output_type": "stream",
     "text": [
      "http://chroniclingamerica.loc.gov/search/pages/results/?phrasetext=free+love&dateFilterType=yearRange&date1=1875&date2=1880&page=1&format=json\n",
      "{'Saint Paul, Minnesota': (44.94441, -93.09327), 'Portland, Oregon': (45.52345, -122.67621), 'Indianapolis, Indiana': (39.76838, -86.15804), 'New York, New York': (40.71427, -74.00597), 'Washington, District of Columbia': (38.89511, -77.03637), 'Alexandria, District of Columbia': (49.09944, -123.90139), 'Columbia, South Carolina': (34.00071, -81.03481), 'Bellevue, Louisiana': (32.6432, -93.48017), 'Idaho City, Idaho': (43.6135, -116.20345), 'Selma, Alabama': (32.40736, -87.0211), 'Wisconsin Rapids, Wisconsin': (44.38358, -89.81735), 'Watertown, Wisconsin': (43.19472, -88.72899), 'Gallipolis, Ohio': (38.8098, -82.20237), 'Helena, Montana': (46.59271, -112.03611), 'Worthington, Minnesota': (43.61996, -95.5964), 'New Orleans, Louisiana': (29.95465, -90.07507), 'Chicago, Illinois': (41.85003, -87.65005)}\n",
      "http://chroniclingamerica.loc.gov/search/pages/results/?phrasetext=free+love&dateFilterType=yearRange&date1=1875&date2=1880&page=2&format=json\n",
      "{'Saint Paul, Minnesota': (44.94441, -93.09327), 'Portland, Oregon': (45.52345, -122.67621), 'Indianapolis, Indiana': (39.76838, -86.15804), 'New York, New York': (40.71427, -74.00597), 'Washington, District of Columbia': (38.89511, -77.03637), 'Alexandria, District of Columbia': (49.09944, -123.90139), 'Columbia, South Carolina': (34.00071, -81.03481), 'Bellevue, Louisiana': (32.6432, -93.48017), 'Idaho City, Idaho': (43.6135, -116.20345), 'Selma, Alabama': (32.40736, -87.0211), 'Wisconsin Rapids, Wisconsin': (44.38358, -89.81735), 'Watertown, Wisconsin': (43.19472, -88.72899), 'Gallipolis, Ohio': (38.8098, -82.20237), 'Helena, Montana': (46.59271, -112.03611), 'Worthington, Minnesota': (43.61996, -95.5964), 'New Orleans, Louisiana': (29.95465, -90.07507), 'Chicago, Illinois': (41.85003, -87.65005), 'Wheeling, West Virginia': (40.06396, -80.72091), 'Canton, Ohio': (40.79895, -81.37845), 'Portland, Maine': (43.65737, -70.2589), 'Dodge City, Kansas': (37.7528, -100.01708), 'Alexandria, Louisiana': (31.31129, -92.44514), 'Princeton, Minnesota': (45.56997, -93.58163), 'Fort Benton, Montana': (47.8183, -110.66744), 'Winnsboro, South Carolina': (34.3807, -81.08648), 'Raleigh, North Carolina': (35.7721, -78.63861), 'Diamond City, Montana': (47.38608, -110.92551), 'Gold Hill, Nevada': (39.29047, -119.6574), 'Pulaski, Tennessee': (35.1998, -87.03084), 'Memphis, Tennessee': (35.14953, -90.04898), 'Ottawa, Illinois': (41.34559, -88.84258)}\n"
     ]
    }
   ],
   "source": [
    "searchTerm = \"free+love\"\n",
    "beginYear = 1875\n",
    "endYear = 1880\n",
    "pg=1\n",
    "endpg=2 #too much data? I'm just grabbing the first few pages right now\n",
    "stop = False\n",
    "allData = []\n",
    "locs = {}\n",
    "while not stop:\n",
    "#http://chroniclingamerica.loc.gov/search/pages/results/?andtext={searchTerms}&page={startPage?}&ortext={chronam:booleanOrText?}&year={chronam:year?}&date1={chronam:date?}&date2={chronam:date?}&phrasetext={chronam:phraseText?}&proxText={chronam:proxText?}&proximityValue={chronam:proximityValue?}&format=json\"\n",
    "    url = \"http://chroniclingamerica.loc.gov/search/pages/results/?phrasetext={0}&dateFilterType=yearRange&date1={1}&date2={2}&page={3}&format=json\".format(searchTerm,beginYear,endYear,pg)\n",
    "    print(url)\n",
    "    call = requests.get(url)\n",
    "    data = call.json()\n",
    "    df = pd.DataFrame(data[\"items\"])\n",
    "    nf=pd.DataFrame()\n",
    "    \n",
    "    #only want city and date for this application\n",
    "    nf['date']=pd.to_datetime(df['date'])\n",
    "    nf['citystate']=df['city'].map(lambda a:a[0])+', '+df['state'].map(lambda a: a[0])\n",
    "    gn = geocoders.GeoNames(username='abwatkins')\n",
    "    geocode = RateLimiter(gn.geocode, min_delay_seconds=1)\n",
    "    for index, row in nf.iterrows():\n",
    "        if row['citystate'] not in locs:\n",
    "            loc = geocode(row['citystate'])\n",
    "            locs[row['citystate']]=(loc.latitude,loc.longitude)\n",
    "    #print(locs)\n",
    "    #nf['lats']=nf['citystate'].map(lambda g: locs[g][0])\n",
    "    #nf['lons']=nf['citystate'].map(lambda g: locs[g][1])\n",
    "    allData.append(nf)\n",
    "    #print(allData.head())\n",
    "    #if data[\"endIndex\"]==data[\"totalItems\"]:\n",
    "    if data[\"endIndex\"]==data[\"totalItems\"] or pg==endpg:\n",
    "        stop = True\n",
    "    else:\n",
    "        pg +=1\n",
    "allData = pd.concat(allData)\n",
    "#allData.head(25)        \n",
    "\n",
    "  \n"
   ]
  },
  {
   "cell_type": "code",
   "execution_count": 55,
   "metadata": {},
   "outputs": [],
   "source": [
    "#create a cross tab of that data to get frequency count of location and year\n",
    "ct=pd.crosstab(allData['date'].dt.year,allData['citystate']).stack().reset_index().rename(columns={0:'Freq'})\n",
    "ct['lats']=ct['citystate'].map(lambda g: locs[g][0])\n",
    "ct['lons']=ct['citystate'].map(lambda g: locs[g][1])\n",
    "ct=ct[ct['Freq']!=0]"
   ]
  },
  {
   "cell_type": "code",
   "execution_count": 56,
   "metadata": {},
   "outputs": [
    {
     "data": {
      "application/vnd.plotly.v1+json": {
       "config": {
        "linkText": "Export to plot.ly",
        "plotlyServerURL": "https://plot.ly",
        "showLink": false
       },
       "data": [
        {
         "lat": [
          40.79895,
          34.00071,
          38.8098,
          39.76838,
          29.95465,
          40.71427,
          41.34559,
          43.65737,
          44.94441,
          38.89511,
          43.19472,
          44.38358,
          43.61996
         ],
         "locationmode": "USA-states",
         "lon": [
          -81.37845,
          -81.03481,
          -82.20237,
          -86.15804,
          -90.07507,
          -74.00597,
          -88.84258,
          -70.2589,
          -93.09327,
          -77.03637,
          -88.72899,
          -89.81735,
          -95.5964
         ],
         "marker": {
          "size": [
           100,
           200,
           100,
           100,
           100,
           200,
           100,
           100,
           200,
           100,
           100,
           100,
           100
          ],
          "sizemode": "area"
         },
         "name": "1875",
         "text": [
          "Canton, Ohio 1875<br>Mentions: 1",
          "Columbia, South Carolina 1875<br>Mentions: 2",
          "Gallipolis, Ohio 1875<br>Mentions: 1",
          "Indianapolis, Indiana 1875<br>Mentions: 1",
          "New Orleans, Louisiana 1875<br>Mentions: 1",
          "New York, New York 1875<br>Mentions: 2",
          "Ottawa, Illinois 1875<br>Mentions: 1",
          "Portland, Maine 1875<br>Mentions: 1",
          "Saint Paul, Minnesota 1875<br>Mentions: 2",
          "Washington, District of Columbia 1875<br>Mentions: 1",
          "Watertown, Wisconsin 1875<br>Mentions: 1",
          "Wisconsin Rapids, Wisconsin 1875<br>Mentions: 1",
          "Worthington, Minnesota 1875<br>Mentions: 1"
         ],
         "type": "scattergeo",
         "visible": true
        },
        {
         "lat": [
          35.14953,
          45.52345,
          34.3807
         ],
         "locationmode": "USA-states",
         "lon": [
          -90.04898,
          -122.67621,
          -81.08648
         ],
         "marker": {
          "size": [
           100,
           200,
           100
          ],
          "sizemode": "area"
         },
         "name": "1876",
         "text": [
          "Memphis, Tennessee 1876<br>Mentions: 1",
          "Portland, Oregon 1876<br>Mentions: 2",
          "Winnsboro, South Carolina 1876<br>Mentions: 1"
         ],
         "type": "scattergeo",
         "visible": false
        },
        {
         "lat": [
          32.6432,
          37.7528,
          43.6135,
          32.40736,
          43.61996
         ],
         "locationmode": "USA-states",
         "lon": [
          -93.48017,
          -100.01708,
          -116.20345,
          -87.0211,
          -95.5964
         ],
         "marker": {
          "size": [
           100,
           100,
           200,
           100,
           100
          ],
          "sizemode": "area"
         },
         "name": "1877",
         "text": [
          "Bellevue, Louisiana 1877<br>Mentions: 1",
          "Dodge City, Kansas 1877<br>Mentions: 1",
          "Idaho City, Idaho 1877<br>Mentions: 2",
          "Selma, Alabama 1877<br>Mentions: 1",
          "Worthington, Minnesota 1877<br>Mentions: 1"
         ],
         "type": "scattergeo",
         "visible": false
        },
        {
         "lat": [
          49.09944,
          47.8183,
          39.29047,
          40.06396
         ],
         "locationmode": "USA-states",
         "lon": [
          -123.90139,
          -110.66744,
          -119.6574,
          -80.72091
         ],
         "marker": {
          "size": [
           100,
           100,
           100,
           100
          ],
          "sizemode": "area"
         },
         "name": "1878",
         "text": [
          "Alexandria, District of Columbia 1878<br>Mentions: 1",
          "Fort Benton, Montana 1878<br>Mentions: 1",
          "Gold Hill, Nevada 1878<br>Mentions: 1",
          "Wheeling, West Virginia 1878<br>Mentions: 1"
         ],
         "type": "scattergeo",
         "visible": false
        },
        {
         "lat": [
          31.31129,
          41.85003,
          47.38608,
          37.7528,
          46.59271,
          43.65737,
          45.56997
         ],
         "locationmode": "USA-states",
         "lon": [
          -92.44514,
          -87.65005,
          -110.92551,
          -100.01708,
          -112.03611,
          -70.2589,
          -93.58163
         ],
         "marker": {
          "size": [
           100,
           100,
           100,
           100,
           100,
           100,
           100
          ],
          "sizemode": "area"
         },
         "name": "1879",
         "text": [
          "Alexandria, Louisiana 1879<br>Mentions: 1",
          "Chicago, Illinois 1879<br>Mentions: 1",
          "Diamond City, Montana 1879<br>Mentions: 1",
          "Dodge City, Kansas 1879<br>Mentions: 1",
          "Helena, Montana 1879<br>Mentions: 1",
          "Portland, Maine 1879<br>Mentions: 1",
          "Princeton, Minnesota 1879<br>Mentions: 1"
         ],
         "type": "scattergeo",
         "visible": false
        },
        {
         "lat": [
          40.79895,
          35.1998,
          35.7721
         ],
         "locationmode": "USA-states",
         "lon": [
          -81.37845,
          -87.03084,
          -78.63861
         ],
         "marker": {
          "size": [
           100,
           100,
           100
          ],
          "sizemode": "area"
         },
         "name": "1880",
         "text": [
          "Canton, Ohio 1880<br>Mentions: 1",
          "Pulaski, Tennessee 1880<br>Mentions: 1",
          "Raleigh, North Carolina 1880<br>Mentions: 1"
         ],
         "type": "scattergeo",
         "visible": false
        }
       ],
       "layout": {
        "geo": {
         "landcolor": "rgb(217, 217, 217)",
         "scope": "usa",
         "showland": true
        },
        "showlegend": true,
        "sliders": [
         {
          "active": 0,
          "currentvalue": {
           "prefix": "year: "
          },
          "pad": {
           "t": 50
          },
          "steps": [
           {
            "args": [
             "visible",
             [
              true,
              false,
              false,
              false,
              false,
              false
             ]
            ],
            "label": "1875",
            "method": "restyle"
           },
           {
            "args": [
             "visible",
             [
              false,
              true,
              false,
              false,
              false,
              false
             ]
            ],
            "label": "1876",
            "method": "restyle"
           },
           {
            "args": [
             "visible",
             [
              false,
              false,
              true,
              false,
              false,
              false
             ]
            ],
            "label": "1877",
            "method": "restyle"
           },
           {
            "args": [
             "visible",
             [
              false,
              false,
              false,
              true,
              false,
              false
             ]
            ],
            "label": "1878",
            "method": "restyle"
           },
           {
            "args": [
             "visible",
             [
              false,
              false,
              false,
              false,
              true,
              false
             ]
            ],
            "label": "1879",
            "method": "restyle"
           },
           {
            "args": [
             "visible",
             [
              false,
              false,
              false,
              false,
              false,
              true
             ]
            ],
            "label": "1880",
            "method": "restyle"
           }
          ]
         }
        ],
        "template": {
         "data": {
          "bar": [
           {
            "error_x": {
             "color": "#2a3f5f"
            },
            "error_y": {
             "color": "#2a3f5f"
            },
            "marker": {
             "line": {
              "color": "#E5ECF6",
              "width": 0.5
             }
            },
            "type": "bar"
           }
          ],
          "barpolar": [
           {
            "marker": {
             "line": {
              "color": "#E5ECF6",
              "width": 0.5
             }
            },
            "type": "barpolar"
           }
          ],
          "carpet": [
           {
            "aaxis": {
             "endlinecolor": "#2a3f5f",
             "gridcolor": "white",
             "linecolor": "white",
             "minorgridcolor": "white",
             "startlinecolor": "#2a3f5f"
            },
            "baxis": {
             "endlinecolor": "#2a3f5f",
             "gridcolor": "white",
             "linecolor": "white",
             "minorgridcolor": "white",
             "startlinecolor": "#2a3f5f"
            },
            "type": "carpet"
           }
          ],
          "choropleth": [
           {
            "colorbar": {
             "outlinewidth": 0,
             "ticks": ""
            },
            "type": "choropleth"
           }
          ],
          "contour": [
           {
            "colorbar": {
             "outlinewidth": 0,
             "ticks": ""
            },
            "colorscale": [
             [
              0,
              "#0d0887"
             ],
             [
              0.1111111111111111,
              "#46039f"
             ],
             [
              0.2222222222222222,
              "#7201a8"
             ],
             [
              0.3333333333333333,
              "#9c179e"
             ],
             [
              0.4444444444444444,
              "#bd3786"
             ],
             [
              0.5555555555555556,
              "#d8576b"
             ],
             [
              0.6666666666666666,
              "#ed7953"
             ],
             [
              0.7777777777777778,
              "#fb9f3a"
             ],
             [
              0.8888888888888888,
              "#fdca26"
             ],
             [
              1,
              "#f0f921"
             ]
            ],
            "type": "contour"
           }
          ],
          "contourcarpet": [
           {
            "colorbar": {
             "outlinewidth": 0,
             "ticks": ""
            },
            "type": "contourcarpet"
           }
          ],
          "heatmap": [
           {
            "colorbar": {
             "outlinewidth": 0,
             "ticks": ""
            },
            "colorscale": [
             [
              0,
              "#0d0887"
             ],
             [
              0.1111111111111111,
              "#46039f"
             ],
             [
              0.2222222222222222,
              "#7201a8"
             ],
             [
              0.3333333333333333,
              "#9c179e"
             ],
             [
              0.4444444444444444,
              "#bd3786"
             ],
             [
              0.5555555555555556,
              "#d8576b"
             ],
             [
              0.6666666666666666,
              "#ed7953"
             ],
             [
              0.7777777777777778,
              "#fb9f3a"
             ],
             [
              0.8888888888888888,
              "#fdca26"
             ],
             [
              1,
              "#f0f921"
             ]
            ],
            "type": "heatmap"
           }
          ],
          "heatmapgl": [
           {
            "colorbar": {
             "outlinewidth": 0,
             "ticks": ""
            },
            "colorscale": [
             [
              0,
              "#0d0887"
             ],
             [
              0.1111111111111111,
              "#46039f"
             ],
             [
              0.2222222222222222,
              "#7201a8"
             ],
             [
              0.3333333333333333,
              "#9c179e"
             ],
             [
              0.4444444444444444,
              "#bd3786"
             ],
             [
              0.5555555555555556,
              "#d8576b"
             ],
             [
              0.6666666666666666,
              "#ed7953"
             ],
             [
              0.7777777777777778,
              "#fb9f3a"
             ],
             [
              0.8888888888888888,
              "#fdca26"
             ],
             [
              1,
              "#f0f921"
             ]
            ],
            "type": "heatmapgl"
           }
          ],
          "histogram": [
           {
            "marker": {
             "colorbar": {
              "outlinewidth": 0,
              "ticks": ""
             }
            },
            "type": "histogram"
           }
          ],
          "histogram2d": [
           {
            "colorbar": {
             "outlinewidth": 0,
             "ticks": ""
            },
            "colorscale": [
             [
              0,
              "#0d0887"
             ],
             [
              0.1111111111111111,
              "#46039f"
             ],
             [
              0.2222222222222222,
              "#7201a8"
             ],
             [
              0.3333333333333333,
              "#9c179e"
             ],
             [
              0.4444444444444444,
              "#bd3786"
             ],
             [
              0.5555555555555556,
              "#d8576b"
             ],
             [
              0.6666666666666666,
              "#ed7953"
             ],
             [
              0.7777777777777778,
              "#fb9f3a"
             ],
             [
              0.8888888888888888,
              "#fdca26"
             ],
             [
              1,
              "#f0f921"
             ]
            ],
            "type": "histogram2d"
           }
          ],
          "histogram2dcontour": [
           {
            "colorbar": {
             "outlinewidth": 0,
             "ticks": ""
            },
            "colorscale": [
             [
              0,
              "#0d0887"
             ],
             [
              0.1111111111111111,
              "#46039f"
             ],
             [
              0.2222222222222222,
              "#7201a8"
             ],
             [
              0.3333333333333333,
              "#9c179e"
             ],
             [
              0.4444444444444444,
              "#bd3786"
             ],
             [
              0.5555555555555556,
              "#d8576b"
             ],
             [
              0.6666666666666666,
              "#ed7953"
             ],
             [
              0.7777777777777778,
              "#fb9f3a"
             ],
             [
              0.8888888888888888,
              "#fdca26"
             ],
             [
              1,
              "#f0f921"
             ]
            ],
            "type": "histogram2dcontour"
           }
          ],
          "mesh3d": [
           {
            "colorbar": {
             "outlinewidth": 0,
             "ticks": ""
            },
            "type": "mesh3d"
           }
          ],
          "parcoords": [
           {
            "line": {
             "colorbar": {
              "outlinewidth": 0,
              "ticks": ""
             }
            },
            "type": "parcoords"
           }
          ],
          "scatter": [
           {
            "marker": {
             "colorbar": {
              "outlinewidth": 0,
              "ticks": ""
             }
            },
            "type": "scatter"
           }
          ],
          "scatter3d": [
           {
            "line": {
             "colorbar": {
              "outlinewidth": 0,
              "ticks": ""
             }
            },
            "marker": {
             "colorbar": {
              "outlinewidth": 0,
              "ticks": ""
             }
            },
            "type": "scatter3d"
           }
          ],
          "scattercarpet": [
           {
            "marker": {
             "colorbar": {
              "outlinewidth": 0,
              "ticks": ""
             }
            },
            "type": "scattercarpet"
           }
          ],
          "scattergeo": [
           {
            "marker": {
             "colorbar": {
              "outlinewidth": 0,
              "ticks": ""
             }
            },
            "type": "scattergeo"
           }
          ],
          "scattergl": [
           {
            "marker": {
             "colorbar": {
              "outlinewidth": 0,
              "ticks": ""
             }
            },
            "type": "scattergl"
           }
          ],
          "scattermapbox": [
           {
            "marker": {
             "colorbar": {
              "outlinewidth": 0,
              "ticks": ""
             }
            },
            "type": "scattermapbox"
           }
          ],
          "scatterpolar": [
           {
            "marker": {
             "colorbar": {
              "outlinewidth": 0,
              "ticks": ""
             }
            },
            "type": "scatterpolar"
           }
          ],
          "scatterpolargl": [
           {
            "marker": {
             "colorbar": {
              "outlinewidth": 0,
              "ticks": ""
             }
            },
            "type": "scatterpolargl"
           }
          ],
          "scatterternary": [
           {
            "marker": {
             "colorbar": {
              "outlinewidth": 0,
              "ticks": ""
             }
            },
            "type": "scatterternary"
           }
          ],
          "surface": [
           {
            "colorbar": {
             "outlinewidth": 0,
             "ticks": ""
            },
            "colorscale": [
             [
              0,
              "#0d0887"
             ],
             [
              0.1111111111111111,
              "#46039f"
             ],
             [
              0.2222222222222222,
              "#7201a8"
             ],
             [
              0.3333333333333333,
              "#9c179e"
             ],
             [
              0.4444444444444444,
              "#bd3786"
             ],
             [
              0.5555555555555556,
              "#d8576b"
             ],
             [
              0.6666666666666666,
              "#ed7953"
             ],
             [
              0.7777777777777778,
              "#fb9f3a"
             ],
             [
              0.8888888888888888,
              "#fdca26"
             ],
             [
              1,
              "#f0f921"
             ]
            ],
            "type": "surface"
           }
          ],
          "table": [
           {
            "cells": {
             "fill": {
              "color": "#EBF0F8"
             },
             "line": {
              "color": "white"
             }
            },
            "header": {
             "fill": {
              "color": "#C8D4E3"
             },
             "line": {
              "color": "white"
             }
            },
            "type": "table"
           }
          ]
         },
         "layout": {
          "annotationdefaults": {
           "arrowcolor": "#2a3f5f",
           "arrowhead": 0,
           "arrowwidth": 1
          },
          "colorscale": {
           "diverging": [
            [
             0,
             "#8e0152"
            ],
            [
             0.1,
             "#c51b7d"
            ],
            [
             0.2,
             "#de77ae"
            ],
            [
             0.3,
             "#f1b6da"
            ],
            [
             0.4,
             "#fde0ef"
            ],
            [
             0.5,
             "#f7f7f7"
            ],
            [
             0.6,
             "#e6f5d0"
            ],
            [
             0.7,
             "#b8e186"
            ],
            [
             0.8,
             "#7fbc41"
            ],
            [
             0.9,
             "#4d9221"
            ],
            [
             1,
             "#276419"
            ]
           ],
           "sequential": [
            [
             0,
             "#0d0887"
            ],
            [
             0.1111111111111111,
             "#46039f"
            ],
            [
             0.2222222222222222,
             "#7201a8"
            ],
            [
             0.3333333333333333,
             "#9c179e"
            ],
            [
             0.4444444444444444,
             "#bd3786"
            ],
            [
             0.5555555555555556,
             "#d8576b"
            ],
            [
             0.6666666666666666,
             "#ed7953"
            ],
            [
             0.7777777777777778,
             "#fb9f3a"
            ],
            [
             0.8888888888888888,
             "#fdca26"
            ],
            [
             1,
             "#f0f921"
            ]
           ],
           "sequentialminus": [
            [
             0,
             "#0d0887"
            ],
            [
             0.1111111111111111,
             "#46039f"
            ],
            [
             0.2222222222222222,
             "#7201a8"
            ],
            [
             0.3333333333333333,
             "#9c179e"
            ],
            [
             0.4444444444444444,
             "#bd3786"
            ],
            [
             0.5555555555555556,
             "#d8576b"
            ],
            [
             0.6666666666666666,
             "#ed7953"
            ],
            [
             0.7777777777777778,
             "#fb9f3a"
            ],
            [
             0.8888888888888888,
             "#fdca26"
            ],
            [
             1,
             "#f0f921"
            ]
           ]
          },
          "colorway": [
           "#636efa",
           "#EF553B",
           "#00cc96",
           "#ab63fa",
           "#FFA15A",
           "#19d3f3",
           "#FF6692",
           "#B6E880",
           "#FF97FF",
           "#FECB52"
          ],
          "font": {
           "color": "#2a3f5f"
          },
          "geo": {
           "bgcolor": "white",
           "lakecolor": "white",
           "landcolor": "#E5ECF6",
           "showlakes": true,
           "showland": true,
           "subunitcolor": "white"
          },
          "hoverlabel": {
           "align": "left"
          },
          "hovermode": "closest",
          "mapbox": {
           "style": "light"
          },
          "paper_bgcolor": "white",
          "plot_bgcolor": "#E5ECF6",
          "polar": {
           "angularaxis": {
            "gridcolor": "white",
            "linecolor": "white",
            "ticks": ""
           },
           "bgcolor": "#E5ECF6",
           "radialaxis": {
            "gridcolor": "white",
            "linecolor": "white",
            "ticks": ""
           }
          },
          "scene": {
           "xaxis": {
            "backgroundcolor": "#E5ECF6",
            "gridcolor": "white",
            "gridwidth": 2,
            "linecolor": "white",
            "showbackground": true,
            "ticks": "",
            "zerolinecolor": "white"
           },
           "yaxis": {
            "backgroundcolor": "#E5ECF6",
            "gridcolor": "white",
            "gridwidth": 2,
            "linecolor": "white",
            "showbackground": true,
            "ticks": "",
            "zerolinecolor": "white"
           },
           "zaxis": {
            "backgroundcolor": "#E5ECF6",
            "gridcolor": "white",
            "gridwidth": 2,
            "linecolor": "white",
            "showbackground": true,
            "ticks": "",
            "zerolinecolor": "white"
           }
          },
          "shapedefaults": {
           "line": {
            "color": "#2a3f5f"
           }
          },
          "ternary": {
           "aaxis": {
            "gridcolor": "white",
            "linecolor": "white",
            "ticks": ""
           },
           "baxis": {
            "gridcolor": "white",
            "linecolor": "white",
            "ticks": ""
           },
           "bgcolor": "#E5ECF6",
           "caxis": {
            "gridcolor": "white",
            "linecolor": "white",
            "ticks": ""
           }
          },
          "title": {
           "x": 0.05
          },
          "xaxis": {
           "automargin": true,
           "gridcolor": "white",
           "linecolor": "white",
           "ticks": "",
           "zerolinecolor": "white",
           "zerolinewidth": 2
          },
          "yaxis": {
           "automargin": true,
           "gridcolor": "white",
           "linecolor": "white",
           "ticks": "",
           "zerolinecolor": "white",
           "zerolinewidth": 2
          }
         }
        },
        "title": {
         "text": "Searching for free+love"
        }
       }
      },
      "text/html": [
       "<div>\n",
       "        \n",
       "        \n",
       "            <div id=\"b1165874-8fd2-45e0-b44c-f92536e57f2b\" class=\"plotly-graph-div\" style=\"height:525px; width:100%;\"></div>\n",
       "            <script type=\"text/javascript\">\n",
       "                require([\"plotly\"], function(Plotly) {\n",
       "                    window.PLOTLYENV=window.PLOTLYENV || {};\n",
       "                    \n",
       "                if (document.getElementById(\"b1165874-8fd2-45e0-b44c-f92536e57f2b\")) {\n",
       "                    Plotly.newPlot(\n",
       "                        'b1165874-8fd2-45e0-b44c-f92536e57f2b',\n",
       "                        [{\"lat\": [40.79895, 34.00071, 38.8098, 39.76838, 29.95465, 40.71427, 41.34559, 43.65737, 44.94441, 38.89511, 43.19472, 44.38358, 43.61996], \"locationmode\": \"USA-states\", \"lon\": [-81.37845, -81.03481, -82.20237, -86.15804, -90.07507, -74.00597, -88.84258, -70.2589, -93.09327, -77.03637, -88.72899, -89.81735, -95.5964], \"marker\": {\"size\": [100, 200, 100, 100, 100, 200, 100, 100, 200, 100, 100, 100, 100], \"sizemode\": \"area\"}, \"name\": \"1875\", \"text\": [\"Canton, Ohio 1875<br>Mentions: 1\", \"Columbia, South Carolina 1875<br>Mentions: 2\", \"Gallipolis, Ohio 1875<br>Mentions: 1\", \"Indianapolis, Indiana 1875<br>Mentions: 1\", \"New Orleans, Louisiana 1875<br>Mentions: 1\", \"New York, New York 1875<br>Mentions: 2\", \"Ottawa, Illinois 1875<br>Mentions: 1\", \"Portland, Maine 1875<br>Mentions: 1\", \"Saint Paul, Minnesota 1875<br>Mentions: 2\", \"Washington, District of Columbia 1875<br>Mentions: 1\", \"Watertown, Wisconsin 1875<br>Mentions: 1\", \"Wisconsin Rapids, Wisconsin 1875<br>Mentions: 1\", \"Worthington, Minnesota 1875<br>Mentions: 1\"], \"type\": \"scattergeo\", \"visible\": true}, {\"lat\": [35.14953, 45.52345, 34.3807], \"locationmode\": \"USA-states\", \"lon\": [-90.04898, -122.67621, -81.08648], \"marker\": {\"size\": [100, 200, 100], \"sizemode\": \"area\"}, \"name\": \"1876\", \"text\": [\"Memphis, Tennessee 1876<br>Mentions: 1\", \"Portland, Oregon 1876<br>Mentions: 2\", \"Winnsboro, South Carolina 1876<br>Mentions: 1\"], \"type\": \"scattergeo\", \"visible\": false}, {\"lat\": [32.6432, 37.7528, 43.6135, 32.40736, 43.61996], \"locationmode\": \"USA-states\", \"lon\": [-93.48017, -100.01708, -116.20345, -87.0211, -95.5964], \"marker\": {\"size\": [100, 100, 200, 100, 100], \"sizemode\": \"area\"}, \"name\": \"1877\", \"text\": [\"Bellevue, Louisiana 1877<br>Mentions: 1\", \"Dodge City, Kansas 1877<br>Mentions: 1\", \"Idaho City, Idaho 1877<br>Mentions: 2\", \"Selma, Alabama 1877<br>Mentions: 1\", \"Worthington, Minnesota 1877<br>Mentions: 1\"], \"type\": \"scattergeo\", \"visible\": false}, {\"lat\": [49.09944, 47.8183, 39.29047, 40.06396], \"locationmode\": \"USA-states\", \"lon\": [-123.90139, -110.66744, -119.6574, -80.72091], \"marker\": {\"size\": [100, 100, 100, 100], \"sizemode\": \"area\"}, \"name\": \"1878\", \"text\": [\"Alexandria, District of Columbia 1878<br>Mentions: 1\", \"Fort Benton, Montana 1878<br>Mentions: 1\", \"Gold Hill, Nevada 1878<br>Mentions: 1\", \"Wheeling, West Virginia 1878<br>Mentions: 1\"], \"type\": \"scattergeo\", \"visible\": false}, {\"lat\": [31.31129, 41.85003, 47.38608, 37.7528, 46.59271, 43.65737, 45.56997], \"locationmode\": \"USA-states\", \"lon\": [-92.44514, -87.65005, -110.92551, -100.01708, -112.03611, -70.2589, -93.58163], \"marker\": {\"size\": [100, 100, 100, 100, 100, 100, 100], \"sizemode\": \"area\"}, \"name\": \"1879\", \"text\": [\"Alexandria, Louisiana 1879<br>Mentions: 1\", \"Chicago, Illinois 1879<br>Mentions: 1\", \"Diamond City, Montana 1879<br>Mentions: 1\", \"Dodge City, Kansas 1879<br>Mentions: 1\", \"Helena, Montana 1879<br>Mentions: 1\", \"Portland, Maine 1879<br>Mentions: 1\", \"Princeton, Minnesota 1879<br>Mentions: 1\"], \"type\": \"scattergeo\", \"visible\": false}, {\"lat\": [40.79895, 35.1998, 35.7721], \"locationmode\": \"USA-states\", \"lon\": [-81.37845, -87.03084, -78.63861], \"marker\": {\"size\": [100, 100, 100], \"sizemode\": \"area\"}, \"name\": \"1880\", \"text\": [\"Canton, Ohio 1880<br>Mentions: 1\", \"Pulaski, Tennessee 1880<br>Mentions: 1\", \"Raleigh, North Carolina 1880<br>Mentions: 1\"], \"type\": \"scattergeo\", \"visible\": false}],\n",
       "                        {\"geo\": {\"landcolor\": \"rgb(217, 217, 217)\", \"scope\": \"usa\", \"showland\": true}, \"showlegend\": true, \"sliders\": [{\"active\": 0, \"currentvalue\": {\"prefix\": \"year: \"}, \"pad\": {\"t\": 50}, \"steps\": [{\"args\": [\"visible\", [true, false, false, false, false, false]], \"label\": \"1875\", \"method\": \"restyle\"}, {\"args\": [\"visible\", [false, true, false, false, false, false]], \"label\": \"1876\", \"method\": \"restyle\"}, {\"args\": [\"visible\", [false, false, true, false, false, false]], \"label\": \"1877\", \"method\": \"restyle\"}, {\"args\": [\"visible\", [false, false, false, true, false, false]], \"label\": \"1878\", \"method\": \"restyle\"}, {\"args\": [\"visible\", [false, false, false, false, true, false]], \"label\": \"1879\", \"method\": \"restyle\"}, {\"args\": [\"visible\", [false, false, false, false, false, true]], \"label\": \"1880\", \"method\": \"restyle\"}]}], \"template\": {\"data\": {\"bar\": [{\"error_x\": {\"color\": \"#2a3f5f\"}, \"error_y\": {\"color\": \"#2a3f5f\"}, \"marker\": {\"line\": {\"color\": \"#E5ECF6\", \"width\": 0.5}}, \"type\": \"bar\"}], \"barpolar\": [{\"marker\": {\"line\": {\"color\": \"#E5ECF6\", \"width\": 0.5}}, \"type\": \"barpolar\"}], \"carpet\": [{\"aaxis\": {\"endlinecolor\": \"#2a3f5f\", \"gridcolor\": \"white\", \"linecolor\": \"white\", \"minorgridcolor\": \"white\", \"startlinecolor\": \"#2a3f5f\"}, \"baxis\": {\"endlinecolor\": \"#2a3f5f\", \"gridcolor\": \"white\", \"linecolor\": \"white\", \"minorgridcolor\": \"white\", \"startlinecolor\": \"#2a3f5f\"}, \"type\": \"carpet\"}], \"choropleth\": [{\"colorbar\": {\"outlinewidth\": 0, \"ticks\": \"\"}, \"type\": \"choropleth\"}], \"contour\": [{\"colorbar\": {\"outlinewidth\": 0, \"ticks\": \"\"}, \"colorscale\": [[0.0, \"#0d0887\"], [0.1111111111111111, \"#46039f\"], [0.2222222222222222, \"#7201a8\"], [0.3333333333333333, \"#9c179e\"], [0.4444444444444444, \"#bd3786\"], [0.5555555555555556, \"#d8576b\"], [0.6666666666666666, \"#ed7953\"], [0.7777777777777778, \"#fb9f3a\"], [0.8888888888888888, \"#fdca26\"], [1.0, \"#f0f921\"]], \"type\": \"contour\"}], \"contourcarpet\": [{\"colorbar\": {\"outlinewidth\": 0, \"ticks\": \"\"}, \"type\": \"contourcarpet\"}], \"heatmap\": [{\"colorbar\": {\"outlinewidth\": 0, \"ticks\": \"\"}, \"colorscale\": [[0.0, \"#0d0887\"], [0.1111111111111111, \"#46039f\"], [0.2222222222222222, \"#7201a8\"], [0.3333333333333333, \"#9c179e\"], [0.4444444444444444, \"#bd3786\"], [0.5555555555555556, \"#d8576b\"], [0.6666666666666666, \"#ed7953\"], [0.7777777777777778, \"#fb9f3a\"], [0.8888888888888888, \"#fdca26\"], [1.0, \"#f0f921\"]], \"type\": \"heatmap\"}], \"heatmapgl\": [{\"colorbar\": {\"outlinewidth\": 0, \"ticks\": \"\"}, \"colorscale\": [[0.0, \"#0d0887\"], [0.1111111111111111, \"#46039f\"], [0.2222222222222222, \"#7201a8\"], [0.3333333333333333, \"#9c179e\"], [0.4444444444444444, \"#bd3786\"], [0.5555555555555556, \"#d8576b\"], [0.6666666666666666, \"#ed7953\"], [0.7777777777777778, \"#fb9f3a\"], [0.8888888888888888, \"#fdca26\"], [1.0, \"#f0f921\"]], \"type\": \"heatmapgl\"}], \"histogram\": [{\"marker\": {\"colorbar\": {\"outlinewidth\": 0, \"ticks\": \"\"}}, \"type\": \"histogram\"}], \"histogram2d\": [{\"colorbar\": {\"outlinewidth\": 0, \"ticks\": \"\"}, \"colorscale\": [[0.0, \"#0d0887\"], [0.1111111111111111, \"#46039f\"], [0.2222222222222222, \"#7201a8\"], [0.3333333333333333, \"#9c179e\"], [0.4444444444444444, \"#bd3786\"], [0.5555555555555556, \"#d8576b\"], [0.6666666666666666, \"#ed7953\"], [0.7777777777777778, \"#fb9f3a\"], [0.8888888888888888, \"#fdca26\"], [1.0, \"#f0f921\"]], \"type\": \"histogram2d\"}], \"histogram2dcontour\": [{\"colorbar\": {\"outlinewidth\": 0, \"ticks\": \"\"}, \"colorscale\": [[0.0, \"#0d0887\"], [0.1111111111111111, \"#46039f\"], [0.2222222222222222, \"#7201a8\"], [0.3333333333333333, \"#9c179e\"], [0.4444444444444444, \"#bd3786\"], [0.5555555555555556, \"#d8576b\"], [0.6666666666666666, \"#ed7953\"], [0.7777777777777778, \"#fb9f3a\"], [0.8888888888888888, \"#fdca26\"], [1.0, \"#f0f921\"]], \"type\": \"histogram2dcontour\"}], \"mesh3d\": [{\"colorbar\": {\"outlinewidth\": 0, \"ticks\": \"\"}, \"type\": \"mesh3d\"}], \"parcoords\": [{\"line\": {\"colorbar\": {\"outlinewidth\": 0, \"ticks\": \"\"}}, \"type\": \"parcoords\"}], \"scatter\": [{\"marker\": {\"colorbar\": {\"outlinewidth\": 0, \"ticks\": \"\"}}, \"type\": \"scatter\"}], \"scatter3d\": [{\"line\": {\"colorbar\": {\"outlinewidth\": 0, \"ticks\": \"\"}}, \"marker\": {\"colorbar\": {\"outlinewidth\": 0, \"ticks\": \"\"}}, \"type\": \"scatter3d\"}], \"scattercarpet\": [{\"marker\": {\"colorbar\": {\"outlinewidth\": 0, \"ticks\": \"\"}}, \"type\": \"scattercarpet\"}], \"scattergeo\": [{\"marker\": {\"colorbar\": {\"outlinewidth\": 0, \"ticks\": \"\"}}, \"type\": \"scattergeo\"}], \"scattergl\": [{\"marker\": {\"colorbar\": {\"outlinewidth\": 0, \"ticks\": \"\"}}, \"type\": \"scattergl\"}], \"scattermapbox\": [{\"marker\": {\"colorbar\": {\"outlinewidth\": 0, \"ticks\": \"\"}}, \"type\": \"scattermapbox\"}], \"scatterpolar\": [{\"marker\": {\"colorbar\": {\"outlinewidth\": 0, \"ticks\": \"\"}}, \"type\": \"scatterpolar\"}], \"scatterpolargl\": [{\"marker\": {\"colorbar\": {\"outlinewidth\": 0, \"ticks\": \"\"}}, \"type\": \"scatterpolargl\"}], \"scatterternary\": [{\"marker\": {\"colorbar\": {\"outlinewidth\": 0, \"ticks\": \"\"}}, \"type\": \"scatterternary\"}], \"surface\": [{\"colorbar\": {\"outlinewidth\": 0, \"ticks\": \"\"}, \"colorscale\": [[0.0, \"#0d0887\"], [0.1111111111111111, \"#46039f\"], [0.2222222222222222, \"#7201a8\"], [0.3333333333333333, \"#9c179e\"], [0.4444444444444444, \"#bd3786\"], [0.5555555555555556, \"#d8576b\"], [0.6666666666666666, \"#ed7953\"], [0.7777777777777778, \"#fb9f3a\"], [0.8888888888888888, \"#fdca26\"], [1.0, \"#f0f921\"]], \"type\": \"surface\"}], \"table\": [{\"cells\": {\"fill\": {\"color\": \"#EBF0F8\"}, \"line\": {\"color\": \"white\"}}, \"header\": {\"fill\": {\"color\": \"#C8D4E3\"}, \"line\": {\"color\": \"white\"}}, \"type\": \"table\"}]}, \"layout\": {\"annotationdefaults\": {\"arrowcolor\": \"#2a3f5f\", \"arrowhead\": 0, \"arrowwidth\": 1}, \"colorscale\": {\"diverging\": [[0, \"#8e0152\"], [0.1, \"#c51b7d\"], [0.2, \"#de77ae\"], [0.3, \"#f1b6da\"], [0.4, \"#fde0ef\"], [0.5, \"#f7f7f7\"], [0.6, \"#e6f5d0\"], [0.7, \"#b8e186\"], [0.8, \"#7fbc41\"], [0.9, \"#4d9221\"], [1, \"#276419\"]], \"sequential\": [[0.0, \"#0d0887\"], [0.1111111111111111, \"#46039f\"], [0.2222222222222222, \"#7201a8\"], [0.3333333333333333, \"#9c179e\"], [0.4444444444444444, \"#bd3786\"], [0.5555555555555556, \"#d8576b\"], [0.6666666666666666, \"#ed7953\"], [0.7777777777777778, \"#fb9f3a\"], [0.8888888888888888, \"#fdca26\"], [1.0, \"#f0f921\"]], \"sequentialminus\": [[0.0, \"#0d0887\"], [0.1111111111111111, \"#46039f\"], [0.2222222222222222, \"#7201a8\"], [0.3333333333333333, \"#9c179e\"], [0.4444444444444444, \"#bd3786\"], [0.5555555555555556, \"#d8576b\"], [0.6666666666666666, \"#ed7953\"], [0.7777777777777778, \"#fb9f3a\"], [0.8888888888888888, \"#fdca26\"], [1.0, \"#f0f921\"]]}, \"colorway\": [\"#636efa\", \"#EF553B\", \"#00cc96\", \"#ab63fa\", \"#FFA15A\", \"#19d3f3\", \"#FF6692\", \"#B6E880\", \"#FF97FF\", \"#FECB52\"], \"font\": {\"color\": \"#2a3f5f\"}, \"geo\": {\"bgcolor\": \"white\", \"lakecolor\": \"white\", \"landcolor\": \"#E5ECF6\", \"showlakes\": true, \"showland\": true, \"subunitcolor\": \"white\"}, \"hoverlabel\": {\"align\": \"left\"}, \"hovermode\": \"closest\", \"mapbox\": {\"style\": \"light\"}, \"paper_bgcolor\": \"white\", \"plot_bgcolor\": \"#E5ECF6\", \"polar\": {\"angularaxis\": {\"gridcolor\": \"white\", \"linecolor\": \"white\", \"ticks\": \"\"}, \"bgcolor\": \"#E5ECF6\", \"radialaxis\": {\"gridcolor\": \"white\", \"linecolor\": \"white\", \"ticks\": \"\"}}, \"scene\": {\"xaxis\": {\"backgroundcolor\": \"#E5ECF6\", \"gridcolor\": \"white\", \"gridwidth\": 2, \"linecolor\": \"white\", \"showbackground\": true, \"ticks\": \"\", \"zerolinecolor\": \"white\"}, \"yaxis\": {\"backgroundcolor\": \"#E5ECF6\", \"gridcolor\": \"white\", \"gridwidth\": 2, \"linecolor\": \"white\", \"showbackground\": true, \"ticks\": \"\", \"zerolinecolor\": \"white\"}, \"zaxis\": {\"backgroundcolor\": \"#E5ECF6\", \"gridcolor\": \"white\", \"gridwidth\": 2, \"linecolor\": \"white\", \"showbackground\": true, \"ticks\": \"\", \"zerolinecolor\": \"white\"}}, \"shapedefaults\": {\"line\": {\"color\": \"#2a3f5f\"}}, \"ternary\": {\"aaxis\": {\"gridcolor\": \"white\", \"linecolor\": \"white\", \"ticks\": \"\"}, \"baxis\": {\"gridcolor\": \"white\", \"linecolor\": \"white\", \"ticks\": \"\"}, \"bgcolor\": \"#E5ECF6\", \"caxis\": {\"gridcolor\": \"white\", \"linecolor\": \"white\", \"ticks\": \"\"}}, \"title\": {\"x\": 0.05}, \"xaxis\": {\"automargin\": true, \"gridcolor\": \"white\", \"linecolor\": \"white\", \"ticks\": \"\", \"zerolinecolor\": \"white\", \"zerolinewidth\": 2}, \"yaxis\": {\"automargin\": true, \"gridcolor\": \"white\", \"linecolor\": \"white\", \"ticks\": \"\", \"zerolinecolor\": \"white\", \"zerolinewidth\": 2}}}, \"title\": {\"text\": \"Searching for free+love\"}},\n",
       "                        {\"responsive\": true}\n",
       "                    ).then(function(){\n",
       "                            \n",
       "var gd = document.getElementById('b1165874-8fd2-45e0-b44c-f92536e57f2b');\n",
       "var x = new MutationObserver(function (mutations, observer) {{\n",
       "        var display = window.getComputedStyle(gd).display;\n",
       "        if (!display || display === 'none') {{\n",
       "            console.log([gd, 'removed!']);\n",
       "            Plotly.purge(gd);\n",
       "            observer.disconnect();\n",
       "        }}\n",
       "}});\n",
       "\n",
       "// Listen for the removal of the full notebook cells\n",
       "var notebookContainer = gd.closest('#notebook-container');\n",
       "if (notebookContainer) {{\n",
       "    x.observe(notebookContainer, {childList: true});\n",
       "}}\n",
       "\n",
       "// Listen for the clearing of the current output cell\n",
       "var outputEl = gd.closest('.output');\n",
       "if (outputEl) {{\n",
       "    x.observe(outputEl, {childList: true});\n",
       "}}\n",
       "\n",
       "                        })\n",
       "                };\n",
       "                });\n",
       "            </script>\n",
       "        </div>"
      ]
     },
     "metadata": {},
     "output_type": "display_data"
    }
   ],
   "source": [
    "# lots taken from https://plot.ly/python/bubble-maps/\n",
    "\n",
    "ct['text']=ct['citystate']+' '+ct['date'].astype(str)+'<br>Mentions: '+ct['Freq'].astype(str)\n",
    "data=[]\n",
    "for yr in ct['date'].unique():\n",
    "    ct_sub = ct[ct['date']==yr]\n",
    "    data.append(go.Scattergeo(\n",
    "        visible=False,\n",
    "        locationmode = 'USA-states',\n",
    "        lon=ct_sub['lons'],\n",
    "        lat=ct_sub['lats'],\n",
    "        text=ct_sub['text'],\n",
    "        marker = dict(\n",
    "        size=ct_sub['Freq']*100,\n",
    "        #line_color='rgb(40,40,40)',\n",
    "         #   line_width=0.5,\n",
    "        sizemode = 'area'\n",
    "        ),\n",
    "        name = str(yr))\n",
    "        )\n",
    "    \n",
    "layout=dict(\n",
    "        title = 'Searching for {0}'.format(searchTerm),\n",
    "        showlegend = True,\n",
    "        geo = dict(\n",
    "            scope = 'usa',\n",
    "            showland = True,\n",
    "            landcolor = 'rgb(217, 217, 217)',\n",
    "        )\n",
    "    )\n",
    "fig = go.Figure(data = data, layout=layout)\n",
    "fig.data[0].visible=True\n",
    "steps = []\n",
    "for i in range(len(fig.data)):\n",
    "    step = dict(\n",
    "        method=\"restyle\",\n",
    "        args=[\"visible\", [False] * len(fig.data)],\n",
    "        label = fig.data[i].name\n",
    "    )\n",
    "    step[\"args\"][1][i] = True  # Toggle i'th trace to \"visible\"\n",
    "    steps.append(step)\n",
    "\n",
    "sliders = [dict(\n",
    "    active=0,\n",
    "    currentvalue={\"prefix\": \"year: \"},\n",
    "    pad={\"t\": 50},\n",
    "    steps= steps\n",
    ")]\n",
    "\n",
    "fig.layout['sliders']=sliders\n",
    "\n",
    "pyo.iplot(fig)"
   ]
  },
  {
   "cell_type": "code",
   "execution_count": 57,
   "metadata": {},
   "outputs": [
    {
     "data": {
      "application/vnd.plotly.v1+json": {
       "config": {
        "linkText": "Export to plot.ly",
        "plotlyServerURL": "https://plot.ly",
        "showLink": false
       },
       "data": [
        {
         "lat": [
          40.79895,
          34.00071,
          38.8098,
          39.76838,
          29.95465,
          40.71427,
          41.34559,
          43.65737,
          44.94441,
          38.89511,
          43.19472,
          44.38358,
          43.61996
         ],
         "locationmode": "USA-states",
         "lon": [
          -81.37845,
          -81.03481,
          -82.20237,
          -86.15804,
          -90.07507,
          -74.00597,
          -88.84258,
          -70.2589,
          -93.09327,
          -77.03637,
          -88.72899,
          -89.81735,
          -95.5964
         ],
         "marker": {
          "size": [
           100,
           200,
           100,
           100,
           100,
           200,
           100,
           100,
           200,
           100,
           100,
           100,
           100
          ],
          "sizemode": "area"
         },
         "name": "1875",
         "text": [
          "Canton, Ohio 1875<br>Mentions: 1",
          "Columbia, South Carolina 1875<br>Mentions: 2",
          "Gallipolis, Ohio 1875<br>Mentions: 1",
          "Indianapolis, Indiana 1875<br>Mentions: 1",
          "New Orleans, Louisiana 1875<br>Mentions: 1",
          "New York, New York 1875<br>Mentions: 2",
          "Ottawa, Illinois 1875<br>Mentions: 1",
          "Portland, Maine 1875<br>Mentions: 1",
          "Saint Paul, Minnesota 1875<br>Mentions: 2",
          "Washington, District of Columbia 1875<br>Mentions: 1",
          "Watertown, Wisconsin 1875<br>Mentions: 1",
          "Wisconsin Rapids, Wisconsin 1875<br>Mentions: 1",
          "Worthington, Minnesota 1875<br>Mentions: 1"
         ],
         "type": "scattergeo"
        },
        {
         "lat": [
          35.14953,
          45.52345,
          34.3807
         ],
         "locationmode": "USA-states",
         "lon": [
          -90.04898,
          -122.67621,
          -81.08648
         ],
         "marker": {
          "size": [
           100,
           200,
           100
          ],
          "sizemode": "area"
         },
         "name": "1876",
         "text": [
          "Memphis, Tennessee 1876<br>Mentions: 1",
          "Portland, Oregon 1876<br>Mentions: 2",
          "Winnsboro, South Carolina 1876<br>Mentions: 1"
         ],
         "type": "scattergeo"
        },
        {
         "lat": [
          32.6432,
          37.7528,
          43.6135,
          32.40736,
          43.61996
         ],
         "locationmode": "USA-states",
         "lon": [
          -93.48017,
          -100.01708,
          -116.20345,
          -87.0211,
          -95.5964
         ],
         "marker": {
          "size": [
           100,
           100,
           200,
           100,
           100
          ],
          "sizemode": "area"
         },
         "name": "1877",
         "text": [
          "Bellevue, Louisiana 1877<br>Mentions: 1",
          "Dodge City, Kansas 1877<br>Mentions: 1",
          "Idaho City, Idaho 1877<br>Mentions: 2",
          "Selma, Alabama 1877<br>Mentions: 1",
          "Worthington, Minnesota 1877<br>Mentions: 1"
         ],
         "type": "scattergeo"
        },
        {
         "lat": [
          49.09944,
          47.8183,
          39.29047,
          40.06396
         ],
         "locationmode": "USA-states",
         "lon": [
          -123.90139,
          -110.66744,
          -119.6574,
          -80.72091
         ],
         "marker": {
          "size": [
           100,
           100,
           100,
           100
          ],
          "sizemode": "area"
         },
         "name": "1878",
         "text": [
          "Alexandria, District of Columbia 1878<br>Mentions: 1",
          "Fort Benton, Montana 1878<br>Mentions: 1",
          "Gold Hill, Nevada 1878<br>Mentions: 1",
          "Wheeling, West Virginia 1878<br>Mentions: 1"
         ],
         "type": "scattergeo"
        },
        {
         "lat": [
          31.31129,
          41.85003,
          47.38608,
          37.7528,
          46.59271,
          43.65737,
          45.56997
         ],
         "locationmode": "USA-states",
         "lon": [
          -92.44514,
          -87.65005,
          -110.92551,
          -100.01708,
          -112.03611,
          -70.2589,
          -93.58163
         ],
         "marker": {
          "size": [
           100,
           100,
           100,
           100,
           100,
           100,
           100
          ],
          "sizemode": "area"
         },
         "name": "1879",
         "text": [
          "Alexandria, Louisiana 1879<br>Mentions: 1",
          "Chicago, Illinois 1879<br>Mentions: 1",
          "Diamond City, Montana 1879<br>Mentions: 1",
          "Dodge City, Kansas 1879<br>Mentions: 1",
          "Helena, Montana 1879<br>Mentions: 1",
          "Portland, Maine 1879<br>Mentions: 1",
          "Princeton, Minnesota 1879<br>Mentions: 1"
         ],
         "type": "scattergeo"
        },
        {
         "lat": [
          40.79895,
          35.1998,
          35.7721
         ],
         "locationmode": "USA-states",
         "lon": [
          -81.37845,
          -87.03084,
          -78.63861
         ],
         "marker": {
          "size": [
           100,
           100,
           100
          ],
          "sizemode": "area"
         },
         "name": "1880",
         "text": [
          "Canton, Ohio 1880<br>Mentions: 1",
          "Pulaski, Tennessee 1880<br>Mentions: 1",
          "Raleigh, North Carolina 1880<br>Mentions: 1"
         ],
         "type": "scattergeo"
        }
       ],
       "layout": {
        "geo": {
         "landcolor": "rgb(217, 217, 217)",
         "scope": "usa",
         "showland": true
        },
        "showlegend": true,
        "template": {
         "data": {
          "bar": [
           {
            "error_x": {
             "color": "#2a3f5f"
            },
            "error_y": {
             "color": "#2a3f5f"
            },
            "marker": {
             "line": {
              "color": "#E5ECF6",
              "width": 0.5
             }
            },
            "type": "bar"
           }
          ],
          "barpolar": [
           {
            "marker": {
             "line": {
              "color": "#E5ECF6",
              "width": 0.5
             }
            },
            "type": "barpolar"
           }
          ],
          "carpet": [
           {
            "aaxis": {
             "endlinecolor": "#2a3f5f",
             "gridcolor": "white",
             "linecolor": "white",
             "minorgridcolor": "white",
             "startlinecolor": "#2a3f5f"
            },
            "baxis": {
             "endlinecolor": "#2a3f5f",
             "gridcolor": "white",
             "linecolor": "white",
             "minorgridcolor": "white",
             "startlinecolor": "#2a3f5f"
            },
            "type": "carpet"
           }
          ],
          "choropleth": [
           {
            "colorbar": {
             "outlinewidth": 0,
             "ticks": ""
            },
            "type": "choropleth"
           }
          ],
          "contour": [
           {
            "colorbar": {
             "outlinewidth": 0,
             "ticks": ""
            },
            "colorscale": [
             [
              0,
              "#0d0887"
             ],
             [
              0.1111111111111111,
              "#46039f"
             ],
             [
              0.2222222222222222,
              "#7201a8"
             ],
             [
              0.3333333333333333,
              "#9c179e"
             ],
             [
              0.4444444444444444,
              "#bd3786"
             ],
             [
              0.5555555555555556,
              "#d8576b"
             ],
             [
              0.6666666666666666,
              "#ed7953"
             ],
             [
              0.7777777777777778,
              "#fb9f3a"
             ],
             [
              0.8888888888888888,
              "#fdca26"
             ],
             [
              1,
              "#f0f921"
             ]
            ],
            "type": "contour"
           }
          ],
          "contourcarpet": [
           {
            "colorbar": {
             "outlinewidth": 0,
             "ticks": ""
            },
            "type": "contourcarpet"
           }
          ],
          "heatmap": [
           {
            "colorbar": {
             "outlinewidth": 0,
             "ticks": ""
            },
            "colorscale": [
             [
              0,
              "#0d0887"
             ],
             [
              0.1111111111111111,
              "#46039f"
             ],
             [
              0.2222222222222222,
              "#7201a8"
             ],
             [
              0.3333333333333333,
              "#9c179e"
             ],
             [
              0.4444444444444444,
              "#bd3786"
             ],
             [
              0.5555555555555556,
              "#d8576b"
             ],
             [
              0.6666666666666666,
              "#ed7953"
             ],
             [
              0.7777777777777778,
              "#fb9f3a"
             ],
             [
              0.8888888888888888,
              "#fdca26"
             ],
             [
              1,
              "#f0f921"
             ]
            ],
            "type": "heatmap"
           }
          ],
          "heatmapgl": [
           {
            "colorbar": {
             "outlinewidth": 0,
             "ticks": ""
            },
            "colorscale": [
             [
              0,
              "#0d0887"
             ],
             [
              0.1111111111111111,
              "#46039f"
             ],
             [
              0.2222222222222222,
              "#7201a8"
             ],
             [
              0.3333333333333333,
              "#9c179e"
             ],
             [
              0.4444444444444444,
              "#bd3786"
             ],
             [
              0.5555555555555556,
              "#d8576b"
             ],
             [
              0.6666666666666666,
              "#ed7953"
             ],
             [
              0.7777777777777778,
              "#fb9f3a"
             ],
             [
              0.8888888888888888,
              "#fdca26"
             ],
             [
              1,
              "#f0f921"
             ]
            ],
            "type": "heatmapgl"
           }
          ],
          "histogram": [
           {
            "marker": {
             "colorbar": {
              "outlinewidth": 0,
              "ticks": ""
             }
            },
            "type": "histogram"
           }
          ],
          "histogram2d": [
           {
            "colorbar": {
             "outlinewidth": 0,
             "ticks": ""
            },
            "colorscale": [
             [
              0,
              "#0d0887"
             ],
             [
              0.1111111111111111,
              "#46039f"
             ],
             [
              0.2222222222222222,
              "#7201a8"
             ],
             [
              0.3333333333333333,
              "#9c179e"
             ],
             [
              0.4444444444444444,
              "#bd3786"
             ],
             [
              0.5555555555555556,
              "#d8576b"
             ],
             [
              0.6666666666666666,
              "#ed7953"
             ],
             [
              0.7777777777777778,
              "#fb9f3a"
             ],
             [
              0.8888888888888888,
              "#fdca26"
             ],
             [
              1,
              "#f0f921"
             ]
            ],
            "type": "histogram2d"
           }
          ],
          "histogram2dcontour": [
           {
            "colorbar": {
             "outlinewidth": 0,
             "ticks": ""
            },
            "colorscale": [
             [
              0,
              "#0d0887"
             ],
             [
              0.1111111111111111,
              "#46039f"
             ],
             [
              0.2222222222222222,
              "#7201a8"
             ],
             [
              0.3333333333333333,
              "#9c179e"
             ],
             [
              0.4444444444444444,
              "#bd3786"
             ],
             [
              0.5555555555555556,
              "#d8576b"
             ],
             [
              0.6666666666666666,
              "#ed7953"
             ],
             [
              0.7777777777777778,
              "#fb9f3a"
             ],
             [
              0.8888888888888888,
              "#fdca26"
             ],
             [
              1,
              "#f0f921"
             ]
            ],
            "type": "histogram2dcontour"
           }
          ],
          "mesh3d": [
           {
            "colorbar": {
             "outlinewidth": 0,
             "ticks": ""
            },
            "type": "mesh3d"
           }
          ],
          "parcoords": [
           {
            "line": {
             "colorbar": {
              "outlinewidth": 0,
              "ticks": ""
             }
            },
            "type": "parcoords"
           }
          ],
          "scatter": [
           {
            "marker": {
             "colorbar": {
              "outlinewidth": 0,
              "ticks": ""
             }
            },
            "type": "scatter"
           }
          ],
          "scatter3d": [
           {
            "line": {
             "colorbar": {
              "outlinewidth": 0,
              "ticks": ""
             }
            },
            "marker": {
             "colorbar": {
              "outlinewidth": 0,
              "ticks": ""
             }
            },
            "type": "scatter3d"
           }
          ],
          "scattercarpet": [
           {
            "marker": {
             "colorbar": {
              "outlinewidth": 0,
              "ticks": ""
             }
            },
            "type": "scattercarpet"
           }
          ],
          "scattergeo": [
           {
            "marker": {
             "colorbar": {
              "outlinewidth": 0,
              "ticks": ""
             }
            },
            "type": "scattergeo"
           }
          ],
          "scattergl": [
           {
            "marker": {
             "colorbar": {
              "outlinewidth": 0,
              "ticks": ""
             }
            },
            "type": "scattergl"
           }
          ],
          "scattermapbox": [
           {
            "marker": {
             "colorbar": {
              "outlinewidth": 0,
              "ticks": ""
             }
            },
            "type": "scattermapbox"
           }
          ],
          "scatterpolar": [
           {
            "marker": {
             "colorbar": {
              "outlinewidth": 0,
              "ticks": ""
             }
            },
            "type": "scatterpolar"
           }
          ],
          "scatterpolargl": [
           {
            "marker": {
             "colorbar": {
              "outlinewidth": 0,
              "ticks": ""
             }
            },
            "type": "scatterpolargl"
           }
          ],
          "scatterternary": [
           {
            "marker": {
             "colorbar": {
              "outlinewidth": 0,
              "ticks": ""
             }
            },
            "type": "scatterternary"
           }
          ],
          "surface": [
           {
            "colorbar": {
             "outlinewidth": 0,
             "ticks": ""
            },
            "colorscale": [
             [
              0,
              "#0d0887"
             ],
             [
              0.1111111111111111,
              "#46039f"
             ],
             [
              0.2222222222222222,
              "#7201a8"
             ],
             [
              0.3333333333333333,
              "#9c179e"
             ],
             [
              0.4444444444444444,
              "#bd3786"
             ],
             [
              0.5555555555555556,
              "#d8576b"
             ],
             [
              0.6666666666666666,
              "#ed7953"
             ],
             [
              0.7777777777777778,
              "#fb9f3a"
             ],
             [
              0.8888888888888888,
              "#fdca26"
             ],
             [
              1,
              "#f0f921"
             ]
            ],
            "type": "surface"
           }
          ],
          "table": [
           {
            "cells": {
             "fill": {
              "color": "#EBF0F8"
             },
             "line": {
              "color": "white"
             }
            },
            "header": {
             "fill": {
              "color": "#C8D4E3"
             },
             "line": {
              "color": "white"
             }
            },
            "type": "table"
           }
          ]
         },
         "layout": {
          "annotationdefaults": {
           "arrowcolor": "#2a3f5f",
           "arrowhead": 0,
           "arrowwidth": 1
          },
          "colorscale": {
           "diverging": [
            [
             0,
             "#8e0152"
            ],
            [
             0.1,
             "#c51b7d"
            ],
            [
             0.2,
             "#de77ae"
            ],
            [
             0.3,
             "#f1b6da"
            ],
            [
             0.4,
             "#fde0ef"
            ],
            [
             0.5,
             "#f7f7f7"
            ],
            [
             0.6,
             "#e6f5d0"
            ],
            [
             0.7,
             "#b8e186"
            ],
            [
             0.8,
             "#7fbc41"
            ],
            [
             0.9,
             "#4d9221"
            ],
            [
             1,
             "#276419"
            ]
           ],
           "sequential": [
            [
             0,
             "#0d0887"
            ],
            [
             0.1111111111111111,
             "#46039f"
            ],
            [
             0.2222222222222222,
             "#7201a8"
            ],
            [
             0.3333333333333333,
             "#9c179e"
            ],
            [
             0.4444444444444444,
             "#bd3786"
            ],
            [
             0.5555555555555556,
             "#d8576b"
            ],
            [
             0.6666666666666666,
             "#ed7953"
            ],
            [
             0.7777777777777778,
             "#fb9f3a"
            ],
            [
             0.8888888888888888,
             "#fdca26"
            ],
            [
             1,
             "#f0f921"
            ]
           ],
           "sequentialminus": [
            [
             0,
             "#0d0887"
            ],
            [
             0.1111111111111111,
             "#46039f"
            ],
            [
             0.2222222222222222,
             "#7201a8"
            ],
            [
             0.3333333333333333,
             "#9c179e"
            ],
            [
             0.4444444444444444,
             "#bd3786"
            ],
            [
             0.5555555555555556,
             "#d8576b"
            ],
            [
             0.6666666666666666,
             "#ed7953"
            ],
            [
             0.7777777777777778,
             "#fb9f3a"
            ],
            [
             0.8888888888888888,
             "#fdca26"
            ],
            [
             1,
             "#f0f921"
            ]
           ]
          },
          "colorway": [
           "#636efa",
           "#EF553B",
           "#00cc96",
           "#ab63fa",
           "#FFA15A",
           "#19d3f3",
           "#FF6692",
           "#B6E880",
           "#FF97FF",
           "#FECB52"
          ],
          "font": {
           "color": "#2a3f5f"
          },
          "geo": {
           "bgcolor": "white",
           "lakecolor": "white",
           "landcolor": "#E5ECF6",
           "showlakes": true,
           "showland": true,
           "subunitcolor": "white"
          },
          "hoverlabel": {
           "align": "left"
          },
          "hovermode": "closest",
          "mapbox": {
           "style": "light"
          },
          "paper_bgcolor": "white",
          "plot_bgcolor": "#E5ECF6",
          "polar": {
           "angularaxis": {
            "gridcolor": "white",
            "linecolor": "white",
            "ticks": ""
           },
           "bgcolor": "#E5ECF6",
           "radialaxis": {
            "gridcolor": "white",
            "linecolor": "white",
            "ticks": ""
           }
          },
          "scene": {
           "xaxis": {
            "backgroundcolor": "#E5ECF6",
            "gridcolor": "white",
            "gridwidth": 2,
            "linecolor": "white",
            "showbackground": true,
            "ticks": "",
            "zerolinecolor": "white"
           },
           "yaxis": {
            "backgroundcolor": "#E5ECF6",
            "gridcolor": "white",
            "gridwidth": 2,
            "linecolor": "white",
            "showbackground": true,
            "ticks": "",
            "zerolinecolor": "white"
           },
           "zaxis": {
            "backgroundcolor": "#E5ECF6",
            "gridcolor": "white",
            "gridwidth": 2,
            "linecolor": "white",
            "showbackground": true,
            "ticks": "",
            "zerolinecolor": "white"
           }
          },
          "shapedefaults": {
           "line": {
            "color": "#2a3f5f"
           }
          },
          "ternary": {
           "aaxis": {
            "gridcolor": "white",
            "linecolor": "white",
            "ticks": ""
           },
           "baxis": {
            "gridcolor": "white",
            "linecolor": "white",
            "ticks": ""
           },
           "bgcolor": "#E5ECF6",
           "caxis": {
            "gridcolor": "white",
            "linecolor": "white",
            "ticks": ""
           }
          },
          "title": {
           "x": 0.05
          },
          "xaxis": {
           "automargin": true,
           "gridcolor": "white",
           "linecolor": "white",
           "ticks": "",
           "zerolinecolor": "white",
           "zerolinewidth": 2
          },
          "yaxis": {
           "automargin": true,
           "gridcolor": "white",
           "linecolor": "white",
           "ticks": "",
           "zerolinecolor": "white",
           "zerolinewidth": 2
          }
         }
        },
        "title": {
         "text": "Searching for free+love<br>(Click legend to toggle traces)"
        }
       }
      },
      "text/html": [
       "<div>\n",
       "        \n",
       "        \n",
       "            <div id=\"dcfe107d-57e1-4620-9333-abdda3367eb4\" class=\"plotly-graph-div\" style=\"height:525px; width:100%;\"></div>\n",
       "            <script type=\"text/javascript\">\n",
       "                require([\"plotly\"], function(Plotly) {\n",
       "                    window.PLOTLYENV=window.PLOTLYENV || {};\n",
       "                    \n",
       "                if (document.getElementById(\"dcfe107d-57e1-4620-9333-abdda3367eb4\")) {\n",
       "                    Plotly.newPlot(\n",
       "                        'dcfe107d-57e1-4620-9333-abdda3367eb4',\n",
       "                        [{\"lat\": [40.79895, 34.00071, 38.8098, 39.76838, 29.95465, 40.71427, 41.34559, 43.65737, 44.94441, 38.89511, 43.19472, 44.38358, 43.61996], \"locationmode\": \"USA-states\", \"lon\": [-81.37845, -81.03481, -82.20237, -86.15804, -90.07507, -74.00597, -88.84258, -70.2589, -93.09327, -77.03637, -88.72899, -89.81735, -95.5964], \"marker\": {\"size\": [100, 200, 100, 100, 100, 200, 100, 100, 200, 100, 100, 100, 100], \"sizemode\": \"area\"}, \"name\": \"1875\", \"text\": [\"Canton, Ohio 1875<br>Mentions: 1\", \"Columbia, South Carolina 1875<br>Mentions: 2\", \"Gallipolis, Ohio 1875<br>Mentions: 1\", \"Indianapolis, Indiana 1875<br>Mentions: 1\", \"New Orleans, Louisiana 1875<br>Mentions: 1\", \"New York, New York 1875<br>Mentions: 2\", \"Ottawa, Illinois 1875<br>Mentions: 1\", \"Portland, Maine 1875<br>Mentions: 1\", \"Saint Paul, Minnesota 1875<br>Mentions: 2\", \"Washington, District of Columbia 1875<br>Mentions: 1\", \"Watertown, Wisconsin 1875<br>Mentions: 1\", \"Wisconsin Rapids, Wisconsin 1875<br>Mentions: 1\", \"Worthington, Minnesota 1875<br>Mentions: 1\"], \"type\": \"scattergeo\"}, {\"lat\": [35.14953, 45.52345, 34.3807], \"locationmode\": \"USA-states\", \"lon\": [-90.04898, -122.67621, -81.08648], \"marker\": {\"size\": [100, 200, 100], \"sizemode\": \"area\"}, \"name\": \"1876\", \"text\": [\"Memphis, Tennessee 1876<br>Mentions: 1\", \"Portland, Oregon 1876<br>Mentions: 2\", \"Winnsboro, South Carolina 1876<br>Mentions: 1\"], \"type\": \"scattergeo\"}, {\"lat\": [32.6432, 37.7528, 43.6135, 32.40736, 43.61996], \"locationmode\": \"USA-states\", \"lon\": [-93.48017, -100.01708, -116.20345, -87.0211, -95.5964], \"marker\": {\"size\": [100, 100, 200, 100, 100], \"sizemode\": \"area\"}, \"name\": \"1877\", \"text\": [\"Bellevue, Louisiana 1877<br>Mentions: 1\", \"Dodge City, Kansas 1877<br>Mentions: 1\", \"Idaho City, Idaho 1877<br>Mentions: 2\", \"Selma, Alabama 1877<br>Mentions: 1\", \"Worthington, Minnesota 1877<br>Mentions: 1\"], \"type\": \"scattergeo\"}, {\"lat\": [49.09944, 47.8183, 39.29047, 40.06396], \"locationmode\": \"USA-states\", \"lon\": [-123.90139, -110.66744, -119.6574, -80.72091], \"marker\": {\"size\": [100, 100, 100, 100], \"sizemode\": \"area\"}, \"name\": \"1878\", \"text\": [\"Alexandria, District of Columbia 1878<br>Mentions: 1\", \"Fort Benton, Montana 1878<br>Mentions: 1\", \"Gold Hill, Nevada 1878<br>Mentions: 1\", \"Wheeling, West Virginia 1878<br>Mentions: 1\"], \"type\": \"scattergeo\"}, {\"lat\": [31.31129, 41.85003, 47.38608, 37.7528, 46.59271, 43.65737, 45.56997], \"locationmode\": \"USA-states\", \"lon\": [-92.44514, -87.65005, -110.92551, -100.01708, -112.03611, -70.2589, -93.58163], \"marker\": {\"size\": [100, 100, 100, 100, 100, 100, 100], \"sizemode\": \"area\"}, \"name\": \"1879\", \"text\": [\"Alexandria, Louisiana 1879<br>Mentions: 1\", \"Chicago, Illinois 1879<br>Mentions: 1\", \"Diamond City, Montana 1879<br>Mentions: 1\", \"Dodge City, Kansas 1879<br>Mentions: 1\", \"Helena, Montana 1879<br>Mentions: 1\", \"Portland, Maine 1879<br>Mentions: 1\", \"Princeton, Minnesota 1879<br>Mentions: 1\"], \"type\": \"scattergeo\"}, {\"lat\": [40.79895, 35.1998, 35.7721], \"locationmode\": \"USA-states\", \"lon\": [-81.37845, -87.03084, -78.63861], \"marker\": {\"size\": [100, 100, 100], \"sizemode\": \"area\"}, \"name\": \"1880\", \"text\": [\"Canton, Ohio 1880<br>Mentions: 1\", \"Pulaski, Tennessee 1880<br>Mentions: 1\", \"Raleigh, North Carolina 1880<br>Mentions: 1\"], \"type\": \"scattergeo\"}],\n",
       "                        {\"geo\": {\"landcolor\": \"rgb(217, 217, 217)\", \"scope\": \"usa\", \"showland\": true}, \"showlegend\": true, \"template\": {\"data\": {\"bar\": [{\"error_x\": {\"color\": \"#2a3f5f\"}, \"error_y\": {\"color\": \"#2a3f5f\"}, \"marker\": {\"line\": {\"color\": \"#E5ECF6\", \"width\": 0.5}}, \"type\": \"bar\"}], \"barpolar\": [{\"marker\": {\"line\": {\"color\": \"#E5ECF6\", \"width\": 0.5}}, \"type\": \"barpolar\"}], \"carpet\": [{\"aaxis\": {\"endlinecolor\": \"#2a3f5f\", \"gridcolor\": \"white\", \"linecolor\": \"white\", \"minorgridcolor\": \"white\", \"startlinecolor\": \"#2a3f5f\"}, \"baxis\": {\"endlinecolor\": \"#2a3f5f\", \"gridcolor\": \"white\", \"linecolor\": \"white\", \"minorgridcolor\": \"white\", \"startlinecolor\": \"#2a3f5f\"}, \"type\": \"carpet\"}], \"choropleth\": [{\"colorbar\": {\"outlinewidth\": 0, \"ticks\": \"\"}, \"type\": \"choropleth\"}], \"contour\": [{\"colorbar\": {\"outlinewidth\": 0, \"ticks\": \"\"}, \"colorscale\": [[0.0, \"#0d0887\"], [0.1111111111111111, \"#46039f\"], [0.2222222222222222, \"#7201a8\"], [0.3333333333333333, \"#9c179e\"], [0.4444444444444444, \"#bd3786\"], [0.5555555555555556, \"#d8576b\"], [0.6666666666666666, \"#ed7953\"], [0.7777777777777778, \"#fb9f3a\"], [0.8888888888888888, \"#fdca26\"], [1.0, \"#f0f921\"]], \"type\": \"contour\"}], \"contourcarpet\": [{\"colorbar\": {\"outlinewidth\": 0, \"ticks\": \"\"}, \"type\": \"contourcarpet\"}], \"heatmap\": [{\"colorbar\": {\"outlinewidth\": 0, \"ticks\": \"\"}, \"colorscale\": [[0.0, \"#0d0887\"], [0.1111111111111111, \"#46039f\"], [0.2222222222222222, \"#7201a8\"], [0.3333333333333333, \"#9c179e\"], [0.4444444444444444, \"#bd3786\"], [0.5555555555555556, \"#d8576b\"], [0.6666666666666666, \"#ed7953\"], [0.7777777777777778, \"#fb9f3a\"], [0.8888888888888888, \"#fdca26\"], [1.0, \"#f0f921\"]], \"type\": \"heatmap\"}], \"heatmapgl\": [{\"colorbar\": {\"outlinewidth\": 0, \"ticks\": \"\"}, \"colorscale\": [[0.0, \"#0d0887\"], [0.1111111111111111, \"#46039f\"], [0.2222222222222222, \"#7201a8\"], [0.3333333333333333, \"#9c179e\"], [0.4444444444444444, \"#bd3786\"], [0.5555555555555556, \"#d8576b\"], [0.6666666666666666, \"#ed7953\"], [0.7777777777777778, \"#fb9f3a\"], [0.8888888888888888, \"#fdca26\"], [1.0, \"#f0f921\"]], \"type\": \"heatmapgl\"}], \"histogram\": [{\"marker\": {\"colorbar\": {\"outlinewidth\": 0, \"ticks\": \"\"}}, \"type\": \"histogram\"}], \"histogram2d\": [{\"colorbar\": {\"outlinewidth\": 0, \"ticks\": \"\"}, \"colorscale\": [[0.0, \"#0d0887\"], [0.1111111111111111, \"#46039f\"], [0.2222222222222222, \"#7201a8\"], [0.3333333333333333, \"#9c179e\"], [0.4444444444444444, \"#bd3786\"], [0.5555555555555556, \"#d8576b\"], [0.6666666666666666, \"#ed7953\"], [0.7777777777777778, \"#fb9f3a\"], [0.8888888888888888, \"#fdca26\"], [1.0, \"#f0f921\"]], \"type\": \"histogram2d\"}], \"histogram2dcontour\": [{\"colorbar\": {\"outlinewidth\": 0, \"ticks\": \"\"}, \"colorscale\": [[0.0, \"#0d0887\"], [0.1111111111111111, \"#46039f\"], [0.2222222222222222, \"#7201a8\"], [0.3333333333333333, \"#9c179e\"], [0.4444444444444444, \"#bd3786\"], [0.5555555555555556, \"#d8576b\"], [0.6666666666666666, \"#ed7953\"], [0.7777777777777778, \"#fb9f3a\"], [0.8888888888888888, \"#fdca26\"], [1.0, \"#f0f921\"]], \"type\": \"histogram2dcontour\"}], \"mesh3d\": [{\"colorbar\": {\"outlinewidth\": 0, \"ticks\": \"\"}, \"type\": \"mesh3d\"}], \"parcoords\": [{\"line\": {\"colorbar\": {\"outlinewidth\": 0, \"ticks\": \"\"}}, \"type\": \"parcoords\"}], \"scatter\": [{\"marker\": {\"colorbar\": {\"outlinewidth\": 0, \"ticks\": \"\"}}, \"type\": \"scatter\"}], \"scatter3d\": [{\"line\": {\"colorbar\": {\"outlinewidth\": 0, \"ticks\": \"\"}}, \"marker\": {\"colorbar\": {\"outlinewidth\": 0, \"ticks\": \"\"}}, \"type\": \"scatter3d\"}], \"scattercarpet\": [{\"marker\": {\"colorbar\": {\"outlinewidth\": 0, \"ticks\": \"\"}}, \"type\": \"scattercarpet\"}], \"scattergeo\": [{\"marker\": {\"colorbar\": {\"outlinewidth\": 0, \"ticks\": \"\"}}, \"type\": \"scattergeo\"}], \"scattergl\": [{\"marker\": {\"colorbar\": {\"outlinewidth\": 0, \"ticks\": \"\"}}, \"type\": \"scattergl\"}], \"scattermapbox\": [{\"marker\": {\"colorbar\": {\"outlinewidth\": 0, \"ticks\": \"\"}}, \"type\": \"scattermapbox\"}], \"scatterpolar\": [{\"marker\": {\"colorbar\": {\"outlinewidth\": 0, \"ticks\": \"\"}}, \"type\": \"scatterpolar\"}], \"scatterpolargl\": [{\"marker\": {\"colorbar\": {\"outlinewidth\": 0, \"ticks\": \"\"}}, \"type\": \"scatterpolargl\"}], \"scatterternary\": [{\"marker\": {\"colorbar\": {\"outlinewidth\": 0, \"ticks\": \"\"}}, \"type\": \"scatterternary\"}], \"surface\": [{\"colorbar\": {\"outlinewidth\": 0, \"ticks\": \"\"}, \"colorscale\": [[0.0, \"#0d0887\"], [0.1111111111111111, \"#46039f\"], [0.2222222222222222, \"#7201a8\"], [0.3333333333333333, \"#9c179e\"], [0.4444444444444444, \"#bd3786\"], [0.5555555555555556, \"#d8576b\"], [0.6666666666666666, \"#ed7953\"], [0.7777777777777778, \"#fb9f3a\"], [0.8888888888888888, \"#fdca26\"], [1.0, \"#f0f921\"]], \"type\": \"surface\"}], \"table\": [{\"cells\": {\"fill\": {\"color\": \"#EBF0F8\"}, \"line\": {\"color\": \"white\"}}, \"header\": {\"fill\": {\"color\": \"#C8D4E3\"}, \"line\": {\"color\": \"white\"}}, \"type\": \"table\"}]}, \"layout\": {\"annotationdefaults\": {\"arrowcolor\": \"#2a3f5f\", \"arrowhead\": 0, \"arrowwidth\": 1}, \"colorscale\": {\"diverging\": [[0, \"#8e0152\"], [0.1, \"#c51b7d\"], [0.2, \"#de77ae\"], [0.3, \"#f1b6da\"], [0.4, \"#fde0ef\"], [0.5, \"#f7f7f7\"], [0.6, \"#e6f5d0\"], [0.7, \"#b8e186\"], [0.8, \"#7fbc41\"], [0.9, \"#4d9221\"], [1, \"#276419\"]], \"sequential\": [[0.0, \"#0d0887\"], [0.1111111111111111, \"#46039f\"], [0.2222222222222222, \"#7201a8\"], [0.3333333333333333, \"#9c179e\"], [0.4444444444444444, \"#bd3786\"], [0.5555555555555556, \"#d8576b\"], [0.6666666666666666, \"#ed7953\"], [0.7777777777777778, \"#fb9f3a\"], [0.8888888888888888, \"#fdca26\"], [1.0, \"#f0f921\"]], \"sequentialminus\": [[0.0, \"#0d0887\"], [0.1111111111111111, \"#46039f\"], [0.2222222222222222, \"#7201a8\"], [0.3333333333333333, \"#9c179e\"], [0.4444444444444444, \"#bd3786\"], [0.5555555555555556, \"#d8576b\"], [0.6666666666666666, \"#ed7953\"], [0.7777777777777778, \"#fb9f3a\"], [0.8888888888888888, \"#fdca26\"], [1.0, \"#f0f921\"]]}, \"colorway\": [\"#636efa\", \"#EF553B\", \"#00cc96\", \"#ab63fa\", \"#FFA15A\", \"#19d3f3\", \"#FF6692\", \"#B6E880\", \"#FF97FF\", \"#FECB52\"], \"font\": {\"color\": \"#2a3f5f\"}, \"geo\": {\"bgcolor\": \"white\", \"lakecolor\": \"white\", \"landcolor\": \"#E5ECF6\", \"showlakes\": true, \"showland\": true, \"subunitcolor\": \"white\"}, \"hoverlabel\": {\"align\": \"left\"}, \"hovermode\": \"closest\", \"mapbox\": {\"style\": \"light\"}, \"paper_bgcolor\": \"white\", \"plot_bgcolor\": \"#E5ECF6\", \"polar\": {\"angularaxis\": {\"gridcolor\": \"white\", \"linecolor\": \"white\", \"ticks\": \"\"}, \"bgcolor\": \"#E5ECF6\", \"radialaxis\": {\"gridcolor\": \"white\", \"linecolor\": \"white\", \"ticks\": \"\"}}, \"scene\": {\"xaxis\": {\"backgroundcolor\": \"#E5ECF6\", \"gridcolor\": \"white\", \"gridwidth\": 2, \"linecolor\": \"white\", \"showbackground\": true, \"ticks\": \"\", \"zerolinecolor\": \"white\"}, \"yaxis\": {\"backgroundcolor\": \"#E5ECF6\", \"gridcolor\": \"white\", \"gridwidth\": 2, \"linecolor\": \"white\", \"showbackground\": true, \"ticks\": \"\", \"zerolinecolor\": \"white\"}, \"zaxis\": {\"backgroundcolor\": \"#E5ECF6\", \"gridcolor\": \"white\", \"gridwidth\": 2, \"linecolor\": \"white\", \"showbackground\": true, \"ticks\": \"\", \"zerolinecolor\": \"white\"}}, \"shapedefaults\": {\"line\": {\"color\": \"#2a3f5f\"}}, \"ternary\": {\"aaxis\": {\"gridcolor\": \"white\", \"linecolor\": \"white\", \"ticks\": \"\"}, \"baxis\": {\"gridcolor\": \"white\", \"linecolor\": \"white\", \"ticks\": \"\"}, \"bgcolor\": \"#E5ECF6\", \"caxis\": {\"gridcolor\": \"white\", \"linecolor\": \"white\", \"ticks\": \"\"}}, \"title\": {\"x\": 0.05}, \"xaxis\": {\"automargin\": true, \"gridcolor\": \"white\", \"linecolor\": \"white\", \"ticks\": \"\", \"zerolinecolor\": \"white\", \"zerolinewidth\": 2}, \"yaxis\": {\"automargin\": true, \"gridcolor\": \"white\", \"linecolor\": \"white\", \"ticks\": \"\", \"zerolinecolor\": \"white\", \"zerolinewidth\": 2}}}, \"title\": {\"text\": \"Searching for free+love<br>(Click legend to toggle traces)\"}},\n",
       "                        {\"responsive\": true}\n",
       "                    ).then(function(){\n",
       "                            \n",
       "var gd = document.getElementById('dcfe107d-57e1-4620-9333-abdda3367eb4');\n",
       "var x = new MutationObserver(function (mutations, observer) {{\n",
       "        var display = window.getComputedStyle(gd).display;\n",
       "        if (!display || display === 'none') {{\n",
       "            console.log([gd, 'removed!']);\n",
       "            Plotly.purge(gd);\n",
       "            observer.disconnect();\n",
       "        }}\n",
       "}});\n",
       "\n",
       "// Listen for the removal of the full notebook cells\n",
       "var notebookContainer = gd.closest('#notebook-container');\n",
       "if (notebookContainer) {{\n",
       "    x.observe(notebookContainer, {childList: true});\n",
       "}}\n",
       "\n",
       "// Listen for the clearing of the current output cell\n",
       "var outputEl = gd.closest('.output');\n",
       "if (outputEl) {{\n",
       "    x.observe(outputEl, {childList: true});\n",
       "}}\n",
       "\n",
       "                        })\n",
       "                };\n",
       "                });\n",
       "            </script>\n",
       "        </div>"
      ]
     },
     "metadata": {},
     "output_type": "display_data"
    }
   ],
   "source": [
    "# lots taken from https://plot.ly/python/bubble-maps/\n",
    "ct =ct[ct['Freq']!=0] # don't want to map 0 counts\n",
    "ct['text']=ct['citystate']+' '+ct['date'].astype(str)+'<br>Mentions: '+ct['Freq'].astype(str)\n",
    "data=[]\n",
    "for yr in ct['date'].unique():\n",
    "    ct_sub = ct[ct['date']==yr]\n",
    "    data.append(go.Scattergeo(\n",
    "        #visible=False,\n",
    "        locationmode = 'USA-states',\n",
    "        lon=ct_sub['lons'],\n",
    "        lat=ct_sub['lats'],\n",
    "        text=ct_sub['text'],\n",
    "        marker = dict(\n",
    "        size=ct_sub['Freq']*100,\n",
    "        #line_color='rgb(40,40,40)',\n",
    "         #   line_width=0.5,\n",
    "        sizemode = 'area'\n",
    "        ),\n",
    "        name = str(yr))\n",
    "        )\n",
    "    \n",
    "layout=dict(\n",
    "        title = 'Searching for {0}<br>(Click legend to toggle traces)'.format(searchTerm),\n",
    "        showlegend = True,\n",
    "        geo = dict(\n",
    "            scope = 'usa',\n",
    "            showland = True,\n",
    "            landcolor = 'rgb(217, 217, 217)',\n",
    "        )\n",
    "    )\n",
    "fig = go.Figure(data = data, layout=layout)\n",
    "#fig.layout['sliders']=sliders\n",
    "\n",
    "pyo.iplot(fig)"
   ]
  },
  {
   "cell_type": "code",
   "execution_count": null,
   "metadata": {},
   "outputs": [],
   "source": []
  },
  {
   "cell_type": "code",
   "execution_count": null,
   "metadata": {},
   "outputs": [],
   "source": []
  },
  {
   "cell_type": "code",
   "execution_count": null,
   "metadata": {},
   "outputs": [],
   "source": []
  },
  {
   "cell_type": "code",
   "execution_count": null,
   "metadata": {},
   "outputs": [],
   "source": []
  }
 ],
 "metadata": {
  "kernelspec": {
   "display_name": "Python 3",
   "language": "python",
   "name": "python3"
  },
  "language_info": {
   "codemirror_mode": {
    "name": "ipython",
    "version": 3
   },
   "file_extension": ".py",
   "mimetype": "text/x-python",
   "name": "python",
   "nbconvert_exporter": "python",
   "pygments_lexer": "ipython3",
   "version": "3.7.3"
  }
 },
 "nbformat": 4,
 "nbformat_minor": 2
}
